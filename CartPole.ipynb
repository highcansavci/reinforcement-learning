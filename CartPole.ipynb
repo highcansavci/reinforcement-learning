{
  "nbformat": 4,
  "nbformat_minor": 0,
  "metadata": {
    "colab": {
      "provenance": []
    },
    "kernelspec": {
      "name": "python3",
      "display_name": "Python 3"
    },
    "language_info": {
      "name": "python"
    }
  },
  "cells": [
    {
      "cell_type": "code",
      "execution_count": 1,
      "metadata": {
        "colab": {
          "base_uri": "https://localhost:8080/"
        },
        "id": "o6238gIGxOZi",
        "outputId": "f7303e36-0a1f-45d5-843c-78f1488da091"
      },
      "outputs": [
        {
          "output_type": "stream",
          "name": "stdout",
          "text": [
            "Requirement already satisfied: gym in /usr/local/lib/python3.10/dist-packages (0.25.2)\n",
            "Collecting gym\n",
            "  Downloading gym-0.26.2.tar.gz (721 kB)\n",
            "\u001b[2K     \u001b[90m━━━━━━━━━━━━━━━━━━━━━━━━━━━━━━━━━━━━━━━\u001b[0m \u001b[32m721.7/721.7 kB\u001b[0m \u001b[31m5.3 MB/s\u001b[0m eta \u001b[36m0:00:00\u001b[0m\n",
            "\u001b[?25h  Installing build dependencies ... \u001b[?25l\u001b[?25hdone\n",
            "  Getting requirements to build wheel ... \u001b[?25l\u001b[?25hdone\n",
            "  Preparing metadata (pyproject.toml) ... \u001b[?25l\u001b[?25hdone\n",
            "Requirement already satisfied: numpy>=1.18.0 in /usr/local/lib/python3.10/dist-packages (from gym) (1.22.4)\n",
            "Requirement already satisfied: cloudpickle>=1.2.0 in /usr/local/lib/python3.10/dist-packages (from gym) (2.2.1)\n",
            "Requirement already satisfied: gym-notices>=0.0.4 in /usr/local/lib/python3.10/dist-packages (from gym) (0.0.8)\n",
            "Building wheels for collected packages: gym\n",
            "  Building wheel for gym (pyproject.toml) ... \u001b[?25l\u001b[?25hdone\n",
            "  Created wheel for gym: filename=gym-0.26.2-py3-none-any.whl size=827633 sha256=e2326da87ec33fcc9747fb2a3b10f650e104ea42e4afa8191ea030b9d40ba8eb\n",
            "  Stored in directory: /root/.cache/pip/wheels/b9/22/6d/3e7b32d98451b4cd9d12417052affbeeeea012955d437da1da\n",
            "Successfully built gym\n",
            "Installing collected packages: gym\n",
            "  Attempting uninstall: gym\n",
            "    Found existing installation: gym 0.25.2\n",
            "    Uninstalling gym-0.25.2:\n",
            "      Successfully uninstalled gym-0.25.2\n",
            "\u001b[31mERROR: pip's dependency resolver does not currently take into account all the packages that are installed. This behaviour is the source of the following dependency conflicts.\n",
            "dopamine-rl 4.0.6 requires gym<=0.25.2, but you have gym 0.26.2 which is incompatible.\u001b[0m\u001b[31m\n",
            "\u001b[0mSuccessfully installed gym-0.26.2\n"
          ]
        }
      ],
      "source": [
        "!pip install -U gym"
      ]
    },
    {
      "cell_type": "code",
      "source": [
        "import gym\n",
        "import numpy as np\n",
        "import matplotlib.pyplot as plt\n",
        "from sklearn.kernel_approximation import RBFSampler"
      ],
      "metadata": {
        "id": "ol4CCR2IxSOI"
      },
      "execution_count": 2,
      "outputs": []
    },
    {
      "cell_type": "code",
      "source": [
        "DISCOUNT_FACTOR = 0.9\n",
        "LR = 0.1"
      ],
      "metadata": {
        "id": "ZFCRwxs8x38N"
      },
      "execution_count": 3,
      "outputs": []
    },
    {
      "cell_type": "code",
      "source": [
        "def epsilon_greedy(model, state, epsilon=0.1):\n",
        "  prob = np.random.random()\n",
        "  if prob < 1 - epsilon:\n",
        "    values = model.predict_all_actions(state)\n",
        "    return np.argmax(values)\n",
        "  else:\n",
        "    return model.env.action_space.sample()"
      ],
      "metadata": {
        "id": "uT6uFG3dx8El"
      },
      "execution_count": 4,
      "outputs": []
    },
    {
      "cell_type": "code",
      "source": [
        "def gather_samples(env, n_episodes=10000):\n",
        "  samples = []\n",
        "  for i in range(n_episodes):\n",
        "    state, _ = env.reset()\n",
        "    done = False\n",
        "    truncated = False\n",
        "    while not (done or truncated):\n",
        "      action = env.action_space.sample()\n",
        "      state_action = np.concatenate((state, [action]))\n",
        "      samples.append(state_action)\n",
        "      state, reward, done, truncated, _ = env.step(action)\n",
        "  return samples"
      ],
      "metadata": {
        "id": "yKqY5VvjKjxK"
      },
      "execution_count": 5,
      "outputs": []
    },
    {
      "cell_type": "code",
      "source": [
        "class RLModel:\n",
        "  def __init__(self, env):\n",
        "    self.env = env\n",
        "    samples = gather_samples(env)\n",
        "    self.featurizer = RBFSampler()\n",
        "    self.featurizer.fit(samples)\n",
        "    dims = self.featurizer.n_components\n",
        "\n",
        "    # initialize linear model weights\n",
        "    self.w = np.zeros(dims)\n",
        "\n",
        "  def predict(self, state, action):\n",
        "    state_action = np.concatenate((state, [action]))\n",
        "    x = self.featurizer.transform([state_action])[0]\n",
        "    return x @ self.w\n",
        "\n",
        "  def predict_all_actions(self, state):\n",
        "    return [self.predict(state, action) for action in range(self.env.action_space.n)]\n",
        "\n",
        "  def grad(self, state, action):\n",
        "    state_action = np.concatenate((state, [action]))\n",
        "    x = self.featurizer.transform([state_action])[0]\n",
        "    return x"
      ],
      "metadata": {
        "id": "UBssbK4KLf1m"
      },
      "execution_count": 6,
      "outputs": []
    },
    {
      "cell_type": "code",
      "source": [
        "def test_agent(model, env, n_episodes=20):\n",
        "  reward_per_episode = np.zeros(n_episodes)\n",
        "  for it in range(n_episodes):\n",
        "    done = False\n",
        "    truncated = False\n",
        "    episode_reward = 0\n",
        "    state, _ = env.reset()\n",
        "    while not done:\n",
        "      action = epsilon_greedy(model, state)\n",
        "      state, reward, done, truncated, _ = env.step(action)\n",
        "      episode_reward += reward\n",
        "    reward_per_episode[it] = episode_reward\n",
        "  return np.mean(reward_per_episode)"
      ],
      "metadata": {
        "id": "8qOi_WiMNFZe"
      },
      "execution_count": 7,
      "outputs": []
    },
    {
      "cell_type": "code",
      "metadata": {
        "id": "8-AxnvAVyzQQ",
        "colab": {
          "base_uri": "https://localhost:8080/",
          "height": 330
        },
        "outputId": "23c06d99-19b1-46b8-9a42-8f57c0ff5281"
      },
      "source": [
        "# Rendering Dependencies\n",
        "!pip install gym pyvirtualdisplay > /dev/null 2>&1\n",
        "!apt-get install -y xvfb python-opengl ffmpeg > /dev/null 2>&1\n",
        "# Gym Dependencies\n",
        "!apt-get update > /dev/null 2>&1\n",
        "!apt-get install cmake > /dev/null 2>&1\n",
        "!pip install --upgrade setuptools 2>&1\n",
        "!pip install ez_setup > /dev/null 2>&1\n",
        "!pip install gym[atari] > /dev/null 2>&1\n",
        "!pip install gym[box2d] > /dev/null 2>&1"
      ],
      "execution_count": 8,
      "outputs": [
        {
          "output_type": "stream",
          "name": "stdout",
          "text": [
            "Requirement already satisfied: setuptools in /usr/local/lib/python3.10/dist-packages (67.7.2)\n",
            "Collecting setuptools\n",
            "  Using cached setuptools-68.0.0-py3-none-any.whl (804 kB)\n",
            "Installing collected packages: setuptools\n",
            "  Attempting uninstall: setuptools\n",
            "    Found existing installation: setuptools 67.7.2\n",
            "    Uninstalling setuptools-67.7.2:\n",
            "      Successfully uninstalled setuptools-67.7.2\n",
            "\u001b[31mERROR: pip's dependency resolver does not currently take into account all the packages that are installed. This behaviour is the source of the following dependency conflicts.\n",
            "ipython 7.34.0 requires jedi>=0.16, which is not installed.\u001b[0m\u001b[31m\n",
            "\u001b[0mSuccessfully installed setuptools-68.0.0\n"
          ]
        },
        {
          "output_type": "display_data",
          "data": {
            "application/vnd.colab-display-data+json": {
              "pip_warning": {
                "packages": [
                  "_distutils_hack",
                  "pkg_resources",
                  "setuptools"
                ]
              }
            }
          },
          "metadata": {}
        }
      ]
    },
    {
      "cell_type": "code",
      "source": [
        "def watch_agent(model, env, epsilon):\n",
        "  done = False\n",
        "  truncated = False\n",
        "  episode_reward = 0\n",
        "  state, _ = env.reset()\n",
        "  while not done:\n",
        "    action = epsilon_greedy(model, state, epsilon)\n",
        "    state, reward, done, truncated, _ = env.step(action)\n",
        "    episode_reward += reward\n",
        "  print(f\"Episode Reward: {episode_reward}\")"
      ],
      "metadata": {
        "id": "UN4ew6TTOI2H"
      },
      "execution_count": 13,
      "outputs": []
    },
    {
      "cell_type": "code",
      "source": [
        "if __name__ == \"__main__\":\n",
        "  env = gym.make(\"CartPole-v1\", render_mode=\"rgb_array\")\n",
        "\n",
        "  model = RLModel(env)\n",
        "  reward_per_episode = []\n",
        "\n",
        "  # watch untrained agent\n",
        "  watch_agent(model, env, epsilon=0)\n",
        "\n",
        "  # repeat until convergence\n",
        "  n_episodes = 5000\n",
        "  for it in range(n_episodes):\n",
        "    state, _ = env.reset()\n",
        "    episode_reward = 0\n",
        "    done = False\n",
        "    truncated = False\n",
        "    while not (done or truncated):\n",
        "      action = epsilon_greedy(model, state)\n",
        "      next_state, reward, done, truncated, _ = env.step(action)\n",
        "\n",
        "      # get the target\n",
        "      if done:\n",
        "        target = reward\n",
        "      else:\n",
        "        target = reward + DISCOUNT_FACTOR * np.max(model.predict_all_actions(next_state))\n",
        "\n",
        "      grad = model.grad(state, action)\n",
        "      error = target - model.predict(state, action)\n",
        "      model.w += LR * error * grad\n",
        "\n",
        "      # accumulate reward\n",
        "      episode_reward += reward\n",
        "\n",
        "      # update state\n",
        "      state = next_state\n",
        "\n",
        "    if (it + 1) % 50 == 0:\n",
        "      print(f\"Episode: {it + 1} / Reward: {episode_reward}\")\n",
        "\n",
        "    if it > 20 and np.mean(reward_per_episode[-20:]) >= 475:\n",
        "      print(\"Early Exit\")\n",
        "      break\n",
        "\n",
        "    reward_per_episode.append(episode_reward)\n",
        "\n",
        "  # test trained agent\n",
        "  test_reward = test_agent(model, env)\n",
        "  print(f\"Average test reward: {test_reward}\")\n",
        "\n",
        "  plt.plot(reward_per_episode)\n",
        "  plt.title(\"Reward per episode\")\n",
        "  plt.show()\n",
        "\n",
        "  # watch trained agent\n",
        "  env = gym.make(\"CartPole-v1\", render_mode=\"rgb_array\")\n",
        "  from gym.wrappers.record_video import RecordVideo\n",
        "  env = RecordVideo(env, './video',  episode_trigger = lambda episode_number: True)\n",
        "  watch_agent(model, env, epsilon=0)"
      ],
      "metadata": {
        "colab": {
          "base_uri": "https://localhost:8080/",
          "height": 1000
        },
        "id": "ahFGM8fdOzKh",
        "outputId": "47650922-4d79-4246-cf17-cc1224097d50"
      },
      "execution_count": 15,
      "outputs": [
        {
          "output_type": "stream",
          "name": "stdout",
          "text": [
            "Episode Reward: 10.0\n",
            "Episode: 50 / Reward: 10.0\n",
            "Episode: 100 / Reward: 52.0\n",
            "Episode: 150 / Reward: 97.0\n",
            "Episode: 200 / Reward: 500.0\n",
            "Episode: 250 / Reward: 202.0\n",
            "Episode: 300 / Reward: 257.0\n",
            "Episode: 350 / Reward: 221.0\n",
            "Episode: 400 / Reward: 229.0\n",
            "Episode: 450 / Reward: 297.0\n",
            "Episode: 500 / Reward: 314.0\n",
            "Episode: 550 / Reward: 292.0\n",
            "Episode: 600 / Reward: 463.0\n",
            "Episode: 650 / Reward: 249.0\n",
            "Episode: 700 / Reward: 396.0\n",
            "Episode: 750 / Reward: 401.0\n",
            "Episode: 800 / Reward: 344.0\n",
            "Episode: 850 / Reward: 284.0\n",
            "Episode: 900 / Reward: 280.0\n",
            "Episode: 950 / Reward: 196.0\n",
            "Episode: 1000 / Reward: 366.0\n",
            "Episode: 1050 / Reward: 263.0\n",
            "Episode: 1100 / Reward: 299.0\n",
            "Episode: 1150 / Reward: 221.0\n",
            "Episode: 1200 / Reward: 13.0\n",
            "Episode: 1250 / Reward: 316.0\n",
            "Episode: 1300 / Reward: 247.0\n",
            "Episode: 1350 / Reward: 220.0\n",
            "Episode: 1400 / Reward: 247.0\n",
            "Episode: 1450 / Reward: 223.0\n",
            "Episode: 1500 / Reward: 203.0\n",
            "Episode: 1550 / Reward: 304.0\n",
            "Episode: 1600 / Reward: 500.0\n",
            "Early Exit\n",
            "Average test reward: 703.85\n"
          ]
        },
        {
          "output_type": "display_data",
          "data": {
            "text/plain": [
              "<Figure size 640x480 with 1 Axes>"
            ],
            "image/png": "[encoded data removed]"
          },
          "metadata": {}
        },
        {
          "output_type": "stream",
          "name": "stderr",
          "text": [
            "/usr/local/lib/python3.10/dist-packages/gym/wrappers/record_video.py:75: UserWarning: \u001b[33mWARN: Overwriting existing videos at /content/video folder (try specifying a different `video_folder` for the `RecordVideo` wrapper if this is not desired)\u001b[0m\n",
            "  logger.warn(\n"
          ]
        },
        {
          "output_type": "stream",
          "name": "stdout",
          "text": [
            "Moviepy - Building video /content/video/rl-video-episode-0.mp4.\n",
            "Moviepy - Writing video /content/video/rl-video-episode-0.mp4\n",
            "\n"
          ]
        },
        {
          "output_type": "stream",
          "name": "stderr",
          "text": []
        },
        {
          "output_type": "stream",
          "name": "stdout",
          "text": [
            "Moviepy - Done !\n",
            "Moviepy - video ready /content/video/rl-video-episode-0.mp4\n",
            "Episode Reward: 743.0\n"
          ]
        }
      ]
    },
    {
      "cell_type": "code",
      "source": [],
      "metadata": {
        "id": "miJPTiRNeKAl"
      },
      "execution_count": null,
      "outputs": []
    }
  ]
}