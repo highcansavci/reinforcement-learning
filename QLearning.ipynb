{
  "nbformat": 4,
  "nbformat_minor": 0,
  "metadata": {
    "colab": {
      "provenance": []
    },
    "kernelspec": {
      "name": "python3",
      "display_name": "Python 3"
    },
    "language_info": {
      "name": "python"
    }
  },
  "cells": [
    {
      "cell_type": "code",
      "source": [
        "import numpy as np\n",
        "import matplotlib.pyplot as plt\n",
        "from enum import IntEnum, Enum"
      ],
      "metadata": {
        "id": "A2BpANMrznNx"
      },
      "execution_count": 1,
      "outputs": []
    },
    {
      "cell_type": "code",
      "source": [
        "class Action(Enum):\n",
        "  UP = 'U'\n",
        "  DOWN = 'D'\n",
        "  LEFT = 'L'\n",
        "  RIGHT = 'R'\n",
        "\n",
        "  def __str__(self):\n",
        "    return str(self.value)"
      ],
      "metadata": {
        "id": "oaOGC8bt14LN"
      },
      "execution_count": 2,
      "outputs": []
    },
    {
      "cell_type": "code",
      "source": [
        "class State(IntEnum):\n",
        "  ACCESSIBLE_GRID = 0\n",
        "  INACCESSIBLE_GRID = -2\n",
        "  LOSER_GRID = -1\n",
        "  WINNER_GRID = 1"
      ],
      "metadata": {
        "id": "HovS_zDS5LvC"
      },
      "execution_count": 3,
      "outputs": []
    },
    {
      "cell_type": "code",
      "source": [
        "ACTION_SPACE = (Action.UP, Action.DOWN, Action.LEFT, Action.RIGHT)\n",
        "STATE_PROBS = [0.6, 0.35, 0.05] # prob of accessible grid, prob of inaccessible grid, prob of loser grid\n",
        "STATES = [State.ACCESSIBLE_GRID, State.INACCESSIBLE_GRID, State.LOSER_GRID, State.WINNER_GRID]\n",
        "UNKNOWN_POLICY = -2 # the policy is unknown for now, the policies are going to be determined after creating the gridworld\n",
        "ROW_SIZE = 10\n",
        "COLUMN_SIZE = 10\n",
        "THRESHOLD = 1e-3\n",
        "DISCOUNT_FACTOR = 0.9"
      ],
      "metadata": {
        "id": "i3egGS_kzpis"
      },
      "execution_count": 44,
      "outputs": []
    },
    {
      "cell_type": "code",
      "source": [
        "class Gridworld: # Environment\n",
        "  def __init__(self, rows, cols, start):\n",
        "    self.rows = rows\n",
        "    self.cols = cols\n",
        "    self.i = start[0]\n",
        "    self.j = start[1]\n",
        "\n",
        "  def set(self, rewards, actions):\n",
        "    # rewards should be a dict of: (i, j): r (row, col): reward\n",
        "    # actions should be a dict of: (i, j): A (row, col): list of possible actions\n",
        "    self.rewards = rewards\n",
        "    self.actions = actions\n",
        "\n",
        "  def set_rewards(self, rewards):\n",
        "    # rewards should be a dict of: (i, j): r (row, col): reward\n",
        "    self.rewards = rewards\n",
        "\n",
        "  def set_actions(self, actions):\n",
        "    # actions should be a dict of: (i, j): A (row, col): list of possible actions\n",
        "    self.actions = actions\n",
        "\n",
        "  def set_state(self, s):\n",
        "    self.i = s[0]\n",
        "    self.j = s[1]\n",
        "\n",
        "  def current_state(self):\n",
        "    return (self.i, self.j)\n",
        "\n",
        "  def is_terminal(self, state):\n",
        "    return state not in self.actions\n",
        "\n",
        "  def reset(self):\n",
        "    # put agent back in start position\n",
        "    self.i = ROW_SIZE - 1\n",
        "    self.j = 0\n",
        "    return (self.i, self.j)\n",
        "\n",
        "  def get_next_state(self, state, action):\n",
        "    # this answers: where would I end up if I perform action 'action' in state 's'?\n",
        "    i, j = state[0], state[1]\n",
        "\n",
        "    # if this action moves you somewhere else, then it will be in this dictionary\n",
        "    if action == Action.UP:\n",
        "      i -= 1\n",
        "    elif action == Action.DOWN:\n",
        "      i += 1\n",
        "    elif action == Action.RIGHT:\n",
        "      j += 1\n",
        "    elif action == Action.LEFT:\n",
        "      j -= 1\n",
        "\n",
        "    return i, j\n",
        "\n",
        "  def move(self, action):\n",
        "    # check if legal move first\n",
        "    if action in self.actions[(self.i, self.j)]:\n",
        "      if action == Action.UP:\n",
        "        self.i -= 1\n",
        "      elif action == Action.DOWN:\n",
        "        self.i += 1\n",
        "      elif action == Action.RIGHT:\n",
        "        self.j += 1\n",
        "      elif action == Action.LEFT:\n",
        "        self.j -= 1\n",
        "    # return a reward (if any)\n",
        "    return self.rewards.get((self.i, self.j), 0)\n",
        "\n",
        "  def undo_move(self, action):\n",
        "    # these are the opposite of what U/D/L/R should normally do\n",
        "    if action == Action.UP:\n",
        "      self.i += 1\n",
        "    elif action == Action.DOWN:\n",
        "      self.i -= 1\n",
        "    elif action == Action.RIGHT:\n",
        "      self.j -= 1\n",
        "    elif action == Action.LEFT:\n",
        "      self.j += 1\n",
        "    # raise an exception if we arrive somewhere we shouldn't be\n",
        "    # should never happen\n",
        "    assert(self.current_state() in self.all_states())\n",
        "\n",
        "  def game_over(self):\n",
        "    # returns true if game is over, else false\n",
        "    # true if we are in a state where no actions are possible\n",
        "    return (self.i, self.j) not in self.actions\n",
        "\n",
        "  def all_states(self):\n",
        "    # possibly buggy but simple way to get all states\n",
        "    # either a position that has possible next actions\n",
        "    # or a position that yields a reward\n",
        "    return set(self.actions.keys()) | set(self.rewards.keys())"
      ],
      "metadata": {
        "id": "7fMc7cCCubT9"
      },
      "execution_count": 45,
      "outputs": []
    },
    {
      "cell_type": "code",
      "source": [
        "def create_gridworld():\n",
        "  # define a grid that describes the reward for arriving at each state\n",
        "  # and possible actions at each state\n",
        "  gridworld = Gridworld(ROW_SIZE, COLUMN_SIZE, (ROW_SIZE, 0))\n",
        "\n",
        "  rewards = {}\n",
        "  actions = {}\n",
        "  total_number_of_grids = ROW_SIZE * COLUMN_SIZE\n",
        "  number_of_accessible_grid = int(total_number_of_grids * STATE_PROBS[State.ACCESSIBLE_GRID])\n",
        "  number_of_inaccessible_grid = int(total_number_of_grids * STATE_PROBS[State.INACCESSIBLE_GRID])\n",
        "  # We subtract the number of winner grid which is 1.\n",
        "  number_of_loser_grid = total_number_of_grids - number_of_accessible_grid - number_of_inaccessible_grid - 1\n",
        "\n",
        "  # populate the accessible grid\n",
        "  num_grid = 0\n",
        "  while num_grid < number_of_accessible_grid:\n",
        "    i = np.random.choice(ROW_SIZE)\n",
        "    j = np.random.choice(COLUMN_SIZE)\n",
        "    state = (i, j)\n",
        "    if state not in actions.keys():\n",
        "      num_grid += 1\n",
        "      actions[state] = None\n",
        "\n",
        "  # populate the negative reward grid\n",
        "  num_grid = 0\n",
        "  while num_grid < number_of_loser_grid:\n",
        "    i = np.random.choice(ROW_SIZE)\n",
        "    j = np.random.choice(COLUMN_SIZE)\n",
        "    state = (i, j)\n",
        "    if state not in actions.keys() and state not in rewards.keys():\n",
        "      num_grid += 1\n",
        "      rewards[state] = -10\n",
        "\n",
        "  # populate the positive reward grid\n",
        "  num_grid = 0\n",
        "  while num_grid < 1:\n",
        "    i = np.random.choice(ROW_SIZE)\n",
        "    j = np.random.choice(COLUMN_SIZE)\n",
        "    state = (i, j)\n",
        "    if state not in actions.keys() and state not in rewards.keys():\n",
        "      num_grid += 1\n",
        "      rewards[state] = 10\n",
        "\n",
        "  gridworld.set_rewards(rewards)\n",
        "  gridworld.set_actions(actions)\n",
        "\n",
        "  # populate action space\n",
        "  for key, _ in actions.items():\n",
        "    actions_ = []\n",
        "    for action in ACTION_SPACE:\n",
        "      next_state = gridworld.get_next_state(state=key, action=action)\n",
        "      if next_state in actions.keys() or next_state in rewards.keys():\n",
        "        actions_.append(action)\n",
        "    actions[key] = tuple(actions_)\n",
        "\n",
        "  gridworld.set_actions(actions)\n",
        "  return gridworld"
      ],
      "metadata": {
        "id": "b4RqTitHEJcW"
      },
      "execution_count": 46,
      "outputs": []
    },
    {
      "cell_type": "code",
      "source": [
        "def create_negative_gridworld(step_cost=-0.1):\n",
        "  # in this game we want to try to minimize the number of moves\n",
        "  # so we will penalize every move\n",
        "  gridworld = create_gridworld()\n",
        "  for key, _ in gridworld.actions:\n",
        "    gridworld.rewards[key] = step_cost\n",
        "  return gridworld"
      ],
      "metadata": {
        "id": "GOaITlboES0Y"
      },
      "execution_count": 47,
      "outputs": []
    },
    {
      "cell_type": "code",
      "source": [
        "def print_values(value_function, gridworld):\n",
        "  for i in range(gridworld.rows):\n",
        "    print(\"---------------------------\")\n",
        "    for j in range(gridworld.cols):\n",
        "      value = value_function.get((i,j), 0)\n",
        "      if value >= 0:\n",
        "        print(\" %.2f|\" % value, end=\"\")\n",
        "      else:\n",
        "        print(\"%.2f|\" % value, end=\"\") # -ve sign takes up an extra space\n",
        "    print(\"\")"
      ],
      "metadata": {
        "id": "KC9-4xGmE_Cy"
      },
      "execution_count": 48,
      "outputs": []
    },
    {
      "cell_type": "code",
      "source": [
        "def print_policy(policy, gridworld):\n",
        "  for i in range(gridworld.rows):\n",
        "    print(\"---------------------------\")\n",
        "    for j in range(gridworld.cols):\n",
        "      state = (i, j)\n",
        "      action = policy.get(state, ' ')\n",
        "      print(\"  %s  |\" % action, end=\"\")\n",
        "    print(\"\")"
      ],
      "metadata": {
        "id": "sKvENhEyE-4D"
      },
      "execution_count": 49,
      "outputs": []
    },
    {
      "cell_type": "code",
      "source": [
        "def max_dict(dict_):\n",
        "  max_val = max(dict_.values())\n",
        "  max_keys = [key for key, value in dict_.items() if value == max_val]\n",
        "  return np.random.choice(max_keys), max_val"
      ],
      "metadata": {
        "id": "ATNHczE82thM"
      },
      "execution_count": 50,
      "outputs": []
    },
    {
      "cell_type": "code",
      "source": [
        "def max_val_dict(dict_):\n",
        "  return max(dict_.values())"
      ],
      "metadata": {
        "id": "gV_G79lRSNpe"
      },
      "execution_count": 51,
      "outputs": []
    },
    {
      "cell_type": "code",
      "source": [
        "def epsilon_greedy(q_table, state, epsilon=0.1):\n",
        "  prob = np.random.random()\n",
        "  if prob < 1 - epsilon:\n",
        "    return max_dict(q_table[state])[0]\n",
        "  else:\n",
        "    return np.random.choice(ACTION_SPACE)"
      ],
      "metadata": {
        "id": "B3QuHdcDoeUV"
      },
      "execution_count": 52,
      "outputs": []
    },
    {
      "cell_type": "code",
      "source": [
        "if __name__ == '__main__':\n",
        "\n",
        "  gridworld = create_negative_gridworld(-0.1)\n",
        "\n",
        "  q_table = {}\n",
        "  for state in gridworld.all_states():\n",
        "    q_table[state] = {}\n",
        "    for action in ACTION_SPACE:\n",
        "      if gridworld.is_terminal(state):\n",
        "        q_table[state][action] = 0\n",
        "      else:\n",
        "        q_table[state][action] = np.random.random()\n",
        "\n",
        "  # how many times we update q-component\n",
        "  update_counts = {}\n",
        "\n",
        "  max_steps = 100\n",
        "  learning_rate = 0.1\n",
        "\n",
        "  # repeat until convergence\n",
        "  reward_per_episode = []\n",
        "  for _ in range(10000):\n",
        "    if _ % 1000 == 0:\n",
        "      print(f\"Iteration: {_}\")\n",
        "\n",
        "    state = gridworld.reset()\n",
        "    action = epsilon_greedy(q_table, state)\n",
        "    episode_reward = 0\n",
        "    steps = 0\n",
        "\n",
        "    while not gridworld.game_over() and steps < max_steps:\n",
        "      reward = gridworld.move(action)\n",
        "      episode_reward += reward\n",
        "\n",
        "      next_state = gridworld.current_state()\n",
        "\n",
        "      q_table[state][action] = q_table[state][action] + learning_rate * (reward + DISCOUNT_FACTOR * max_val_dict(q_table[next_state]) - q_table[state][action])\n",
        "\n",
        "      update_counts[state] = update_counts.get(state, 0) + 1\n",
        "\n",
        "      state = next_state\n",
        "      steps += 1\n",
        "\n",
        "    reward_per_episode.append(episode_reward)\n",
        "\n",
        "  plt.plot(reward_per_episode)\n",
        "  plt.title(\"Reward per Episode\")\n",
        "  plt.show();\n",
        "\n",
        "  # determine the policy from Q*\n",
        "  # find V* from Q*\n",
        "  policy = {}\n",
        "  value_function_q_learning = {}\n",
        "  for state in gridworld.actions.keys():\n",
        "    action, max_q = max_dict(q_table[state])\n",
        "    policy[state] = action\n",
        "    value_function_q_learning[state] = max_q\n",
        "\n",
        "  print(\"Update Counts: \")\n",
        "  total = np.sum(list(update_counts.values()))\n",
        "  for key, value in update_counts.items():\n",
        "    update_counts[key] = float(value) / total\n",
        "  print_values(update_counts, gridworld)\n",
        "  print()\n",
        "\n",
        "  # once we're done, print the final policy and values\n",
        "  print(\"values:\")\n",
        "  print_values(value_function_q_learning, gridworld)\n",
        "  print()\n",
        "  print(\"policy:\")\n",
        "  print_policy(policy, gridworld)\n",
        "  print()"
      ],
      "metadata": {
        "colab": {
          "base_uri": "https://localhost:8080/",
          "height": 1000
        },
        "id": "fhZXEhZYufUK",
        "outputId": "33aed519-466f-4802-802a-05bb0d63c8c7"
      },
      "execution_count": 63,
      "outputs": [
        {
          "output_type": "stream",
          "name": "stdout",
          "text": [
            "Iteration: 0\n",
            "Iteration: 1000\n",
            "Iteration: 2000\n",
            "Iteration: 3000\n",
            "Iteration: 4000\n",
            "Iteration: 5000\n",
            "Iteration: 6000\n",
            "Iteration: 7000\n",
            "Iteration: 8000\n",
            "Iteration: 9000\n"
          ]
        },
        {
          "output_type": "display_data",
          "data": {
            "text/plain": [
              "<Figure size 640x480 with 1 Axes>"
            ],
            "image/png": "[encoded data removed]"
          },
          "metadata": {}
        },
        {
          "output_type": "stream",
          "name": "stdout",
          "text": [
            "Update Counts: \n",
            "---------------------------\n",
            " 0.00| 0.00| 0.00| 0.00| 0.00| 0.00| 0.00| 0.00| 0.00| 0.00|\n",
            "---------------------------\n",
            " 0.00| 0.00| 0.00| 0.00| 0.00| 0.00| 0.00| 0.00| 0.00| 0.00|\n",
            "---------------------------\n",
            " 0.00| 0.00| 0.00| 0.00| 0.00| 0.00| 0.00| 0.00| 0.00| 0.00|\n",
            "---------------------------\n",
            " 0.00| 0.00| 0.00| 0.00| 0.00| 0.00| 0.00| 0.00| 0.00| 0.00|\n",
            "---------------------------\n",
            " 0.00| 0.00| 0.00| 0.00| 0.00| 0.00| 0.00| 0.00| 0.00| 0.00|\n",
            "---------------------------\n",
            " 0.00| 0.00| 0.00| 0.00| 0.00| 0.00| 0.00| 0.00| 0.00| 0.00|\n",
            "---------------------------\n",
            " 0.00| 0.00| 0.00| 0.00| 0.00| 0.00| 0.00| 0.00| 0.00| 0.00|\n",
            "---------------------------\n",
            " 0.00| 0.00| 0.00| 0.00| 0.00| 0.00| 0.00| 0.00| 0.00| 0.00|\n",
            "---------------------------\n",
            " 0.00| 0.00| 0.00| 0.00| 0.00| 0.00| 0.00| 0.00| 0.00| 0.00|\n",
            "---------------------------\n",
            " 0.06| 0.94| 0.00| 0.00| 0.00| 0.00| 0.00| 0.00| 0.00| 0.00|\n",
            "\n",
            "values:\n",
            "---------------------------\n",
            " 0.97| 0.97| 0.93| 0.00| 0.97| 0.68| 0.60| 0.93| 0.00| 0.00|\n",
            "---------------------------\n",
            " 0.00| 0.00| 0.00| 0.00| 0.00| 0.00| 0.31| 0.00| 0.40| 0.85|\n",
            "---------------------------\n",
            " 0.00| 0.00| 0.94| 0.90| 0.00| 0.00| 0.79| 0.00| 0.82| 0.62|\n",
            "---------------------------\n",
            " 0.00| 0.64| 0.00| 0.00| 0.90| 0.85| 0.00| 0.77| 0.88| 0.75|\n",
            "---------------------------\n",
            " 0.00| 0.40| 0.91| 0.00| 0.88| 0.72| 0.58| 0.56| 0.00| 0.00|\n",
            "---------------------------\n",
            " 0.00| 0.00| 0.00| 0.93| 0.93| 0.00| 0.91| 0.00| 0.00| 0.80|\n",
            "---------------------------\n",
            " 0.00| 0.89| 0.93| 0.90| 0.72| 0.81| 0.00| 0.00| 0.91| 0.69|\n",
            "---------------------------\n",
            " 0.00| 0.59| 0.47| 0.00| 0.00| 0.86| 0.63| 0.95| 0.00| 0.00|\n",
            "---------------------------\n",
            " 0.68| 0.75| 0.94| 0.00| 0.39| 0.73| 0.68| 0.88| 0.99| 0.98|\n",
            "---------------------------\n",
            " 0.81| 0.90| 0.00| 1.00| 0.99| 0.66| 0.91| 0.00| 0.93| 0.88|\n",
            "\n",
            "policy:\n",
            "---------------------------\n",
            "  R  |  L  |  L  |     |  L  |  R  |  L  |  L  |     |     |\n",
            "---------------------------\n",
            "     |     |     |     |     |     |  U  |     |  R  |  L  |\n",
            "---------------------------\n",
            "     |     |  U  |  L  |     |     |  D  |     |  L  |  D  |\n",
            "---------------------------\n",
            "     |  L  |     |     |  D  |  D  |     |  D  |  R  |  U  |\n",
            "---------------------------\n",
            "     |  U  |  D  |     |  U  |  L  |  D  |  R  |     |     |\n",
            "---------------------------\n",
            "     |     |     |  L  |  U  |     |  L  |     |     |  R  |\n",
            "---------------------------\n",
            "     |  R  |  R  |  L  |  L  |  D  |     |     |  R  |  R  |\n",
            "---------------------------\n",
            "     |  R  |  L  |     |     |  R  |  U  |  U  |     |     |\n",
            "---------------------------\n",
            "  D  |  R  |  U  |     |  U  |  D  |  R  |  L  |  U  |  D  |\n",
            "---------------------------\n",
            "  R  |  D  |     |  D  |  R  |  L  |  R  |     |  D  |  U  |\n",
            "\n"
          ]
        }
      ]
    },
    {
      "cell_type": "code",
      "source": [],
      "metadata": {
        "id": "rKkf6fURPXJR"
      },
      "execution_count": 39,
      "outputs": []
    }
  ]
}