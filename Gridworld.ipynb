{
  "nbformat": 4,
  "nbformat_minor": 0,
  "metadata": {
    "colab": {
      "provenance": []
    },
    "kernelspec": {
      "name": "python3",
      "display_name": "Python 3"
    },
    "language_info": {
      "name": "python"
    }
  },
  "cells": [
    {
      "cell_type": "code",
      "source": [
        "import numpy as np\n",
        "import matplotlib.pyplot as plt\n",
        "from enum import IntEnum"
      ],
      "metadata": {
        "id": "sI7hPxAfAXcr"
      },
      "execution_count": 2,
      "outputs": []
    },
    {
      "cell_type": "code",
      "source": [
        "class Action(IntEnum):\n",
        "  UP = 0\n",
        "  DOWN = 1\n",
        "  LEFT = 2\n",
        "  RIGHT = 3"
      ],
      "metadata": {
        "id": "w0XKVTjvegXA"
      },
      "execution_count": 3,
      "outputs": []
    },
    {
      "cell_type": "code",
      "source": [
        "class State(IntEnum):\n",
        "  ACCESSIBLE_GRID = 0\n",
        "  INACCESSIBLE_GRID = -2\n",
        "  LOSER_GRID = -1\n",
        "  WINNER_GRID = 1"
      ],
      "metadata": {
        "id": "TaeuHxbxe3rL"
      },
      "execution_count": 4,
      "outputs": []
    },
    {
      "cell_type": "code",
      "source": [
        "STATE_PROBS = [0.7, 0.2, 0.1] # prob of accessible grid, prob of inaccessible grid, prob of loser grid\n",
        "STATES = [State.ACCESSIBLE_GRID, State.INACCESSIBLE_GRID, State.LOSER_GRID, State.WINNER_GRID]\n",
        "UNKNOWN_POLICY = -2 # the policy is unknown for now, the policies are going to be determined after creating the gridworld\n",
        "ACTIONS = [Action.UP, Action.DOWN, Action.LEFT, Action.RIGHT]\n",
        "ROW_SIZE = 10\n",
        "COLUMN_SIZE = 10\n",
        "THRESHOLD = 1e-3\n",
        "DISCOUNT_FACTOR = 0.9"
      ],
      "metadata": {
        "id": "slN8SNQj-Hdw"
      },
      "execution_count": 5,
      "outputs": []
    },
    {
      "cell_type": "code",
      "execution_count": 6,
      "metadata": {
        "id": "FoWKIkHJ9cyt"
      },
      "outputs": [],
      "source": [
        "class Gridworld:\n",
        "  def __init__(self, row_size, column_size, start_position):\n",
        "    assert(row_size * column_size >= 10) # creating a complex gridworld\n",
        "    self.gridworld, self.winner_position = self.create_gridworld(row_size, column_size)\n",
        "    row, column = start_position\n",
        "    assert(self.gridworld[row, column][0] == 0) # the starting position should be accessible and should not cause the termination of the game\n",
        "    self.start_position = start_position\n",
        "    self.position = start_position\n",
        "    # print(self.gridworld) # For debug purposes\n",
        "    self.available_moves = self.check_available_moves(row_size, column_size)\n",
        "    # print(self.available_moves) # For debug purposes\n",
        "    self.create_policy(row_size, column_size)\n",
        "    print(self.gridworld) # For debug purposes\n",
        "\n",
        "  def create_gridworld(self, row_size, column_size):\n",
        "    out = np.empty((row_size, column_size), dtype=object)\n",
        "    total_number_of_grids = row_size * column_size\n",
        "    number_of_accessible_grid = int(total_number_of_grids * STATE_PROBS[State.ACCESSIBLE_GRID])\n",
        "    number_of_inaccessible_grid = int(total_number_of_grids * STATE_PROBS[State.INACCESSIBLE_GRID])\n",
        "    # We subtract the number of winner grid which is 1.\n",
        "    number_of_loser_grid = total_number_of_grids - number_of_accessible_grid - number_of_inaccessible_grid - 1\n",
        "    # create a distribution of states\n",
        "    new_state_probs = np.array([number_of_accessible_grid, number_of_inaccessible_grid, number_of_loser_grid]) / (total_number_of_grids - 1)\n",
        "    # determine the winner state for policy creation\n",
        "    winner_position_row = np.random.choice(row_size - 1)\n",
        "    winner_position_column = np.random.choice(column_size - 1)\n",
        "    state = np.random.choice(STATES[:-1], p=new_state_probs, size=(ROW_SIZE, COLUMN_SIZE))\n",
        "    out[winner_position_row, winner_position_column] = [1, UNKNOWN_POLICY, UNKNOWN_POLICY]\n",
        "    for i in range(row_size):\n",
        "      for j in range(column_size):\n",
        "        if i == winner_position_row and j == winner_position_column:\n",
        "          continue\n",
        "        out[i, j] = [state[i, j], UNKNOWN_POLICY, UNKNOWN_POLICY]\n",
        "    return out, (winner_position_row, winner_position_column)\n",
        "\n",
        "  def game_over(self):\n",
        "    row, column = self.starting_position\n",
        "    return self.gridworld[row, column][0] % 10 == 0 # whether we lost or won the game terminates\n",
        "\n",
        "  # helper method which doesn't take extreme cases into consideration\n",
        "  def move_calculate_position(self, position, action):\n",
        "    if action == Action.UP:\n",
        "      return [position[0] - 1, position[1]]\n",
        "    elif action == Action.DOWN:\n",
        "      return [position[0] + 1, position[1]]\n",
        "    elif action == Action.LEFT:\n",
        "      return [position[0], position[1] - 1]\n",
        "    elif action == Action.RIGHT:\n",
        "      return [position[0], position[1] + 1]\n",
        "\n",
        "  def move_simulation(self, position, action):\n",
        "    # check if we step into the inaccessible grid\n",
        "    row, column = position\n",
        "    can_move = self.gridworld[row, column][0] != -2\n",
        "    not_going_to_move_up_or_down = (row == 0 and action == Action.UP) or (row == ROW_SIZE - 1 and action == Action.DOWN)\n",
        "    not_going_to_move_left_or_right = (column == 0 and action == Action.LEFT) or (column == COLUMN_SIZE - 1 and action == Action.RIGHT)\n",
        "    can_move = can_move and not(not_going_to_move_up_or_down or not_going_to_move_left_or_right)\n",
        "    if can_move:\n",
        "      row, column = self.move_calculate_position(position, action)\n",
        "      # check if we step into the inaccessible grid\n",
        "      can_move = can_move and self.gridworld[row, column][0] != -2\n",
        "    return can_move, [row, column] if can_move else position\n",
        "\n",
        "  def create_transition_probs(self, position, action):\n",
        "    # check if we step into the invalid grid\n",
        "    row, column = position\n",
        "    can_move = self.gridworld[row, column][0] == 0\n",
        "    not_going_to_move_up_or_down = (row == 0 and action == Action.UP) or (row == ROW_SIZE - 1 and action == Action.DOWN)\n",
        "    not_going_to_move_left_or_right = (column == 0 and action == Action.LEFT) or (column == COLUMN_SIZE - 1 and action == Action.RIGHT)\n",
        "    can_move = can_move and not(not_going_to_move_up_or_down or not_going_to_move_left_or_right)\n",
        "    if can_move:\n",
        "      row, column = self.move_calculate_position(position, action)\n",
        "      # check if we step into the invalid grid\n",
        "      can_move = can_move and self.gridworld[row, column][0] == 0\n",
        "    return can_move, (row, column) if can_move else position\n",
        "\n",
        "  def move(self, action):\n",
        "    self.position = list(self.move_simulation(self.position, action))\n",
        "\n",
        "  def check_available_moves(self, row_size, column_size):\n",
        "    moves = np.empty((row_size, column_size), dtype=object)\n",
        "    for i in range(row_size):\n",
        "      for j in range(column_size):\n",
        "        move_list = []\n",
        "        if self.gridworld[i, j][0] != 0:\n",
        "          moves[i, j] = move_list\n",
        "          continue # non-playable grid\n",
        "        if self.move_simulation([i, j], Action.DOWN)[0]:\n",
        "          move_list.append(Action.DOWN)\n",
        "        if self.move_simulation([i, j], Action.UP)[0]:\n",
        "          move_list.append(Action.UP)\n",
        "        if self.move_simulation([i, j], Action.LEFT)[0]:\n",
        "          move_list.append(Action.LEFT)\n",
        "        if self.move_simulation([i, j], Action.RIGHT)[0]:\n",
        "          move_list.append(Action.RIGHT)\n",
        "        moves[i, j] = move_list\n",
        "    return moves\n",
        "\n",
        "  def create_policy(self, row_size, column_size):\n",
        "    winner_row, winner_column = self.winner_position\n",
        "    for i in range(row_size):\n",
        "      for j in range(column_size):\n",
        "        action_up_down = -1\n",
        "        action_left_right = -1\n",
        "        if self.gridworld[i, j][0] < 0:\n",
        "          continue # non-playable grid\n",
        "        elif winner_row > i and self.move_simulation([i, j], Action.DOWN)[0]:\n",
        "          action_up_down = Action.DOWN\n",
        "        elif winner_row < i and self.move_simulation([i, j], Action.UP)[0]:\n",
        "          action_up_down = Action.UP\n",
        "        if winner_column < j and self.move_simulation([i, j], Action.LEFT)[0]:\n",
        "          action_left_right = Action.LEFT\n",
        "        elif winner_column > j and self.move_simulation([i, j], Action.RIGHT)[0]:\n",
        "          action_left_right = Action.RIGHT\n",
        "        self.gridworld[i, j][1] = action_up_down\n",
        "        self.gridworld[i, j][2] = action_left_right"
      ]
    },
    {
      "cell_type": "code",
      "source": [
        "gridworld = Gridworld(ROW_SIZE, COLUMN_SIZE, [ROW_SIZE - 1, 0]);"
      ],
      "metadata": {
        "colab": {
          "base_uri": "https://localhost:8080/"
        },
        "id": "kMO0CVaQGO_O",
        "outputId": "1d9c698f-764c-440d-a380-bfac4ddb609a"
      },
      "execution_count": 8,
      "outputs": [
        {
          "output_type": "stream",
          "name": "stdout",
          "text": [
            "[[list([0, <Action.DOWN: 1>, <Action.RIGHT: 3>])\n",
            "  list([0, <Action.DOWN: 1>, <Action.RIGHT: 3>])\n",
            "  list([0, <Action.DOWN: 1>, <Action.RIGHT: 3>])\n",
            "  list([0, <Action.DOWN: 1>, <Action.RIGHT: 3>])\n",
            "  list([0, <Action.DOWN: 1>, -1]) list([-2, -2, -2])\n",
            "  list([0, <Action.DOWN: 1>, <Action.RIGHT: 3>]) list([0, -1, -1])\n",
            "  list([-2, -2, -2]) list([-2, -2, -2])]\n",
            " [list([0, <Action.DOWN: 1>, <Action.RIGHT: 3>])\n",
            "  list([0, <Action.DOWN: 1>, <Action.RIGHT: 3>])\n",
            "  list([0, <Action.DOWN: 1>, <Action.RIGHT: 3>])\n",
            "  list([0, <Action.DOWN: 1>, <Action.RIGHT: 3>]) list([-1, -2, -2])\n",
            "  list([0, <Action.DOWN: 1>, <Action.RIGHT: 3>]) list([-1, -2, -2])\n",
            "  list([-2, -2, -2]) list([-2, -2, -2]) list([0, -1, -1])]\n",
            " [list([0, <Action.DOWN: 1>, <Action.RIGHT: 3>])\n",
            "  list([0, -1, <Action.RIGHT: 3>]) list([-1, -2, -2])\n",
            "  list([0, -1, <Action.RIGHT: 3>])\n",
            "  list([0, <Action.DOWN: 1>, <Action.RIGHT: 3>])\n",
            "  list([0, <Action.DOWN: 1>, <Action.RIGHT: 3>]) list([-1, -2, -2])\n",
            "  list([0, <Action.DOWN: 1>, -1]) list([-2, -2, -2]) list([-2, -2, -2])]\n",
            " [list([0, <Action.DOWN: 1>, -1]) list([-2, -2, -2])\n",
            "  list([0, <Action.DOWN: 1>, -1]) list([-2, -2, -2])\n",
            "  list([0, <Action.DOWN: 1>, <Action.RIGHT: 3>])\n",
            "  list([0, -1, <Action.RIGHT: 3>])\n",
            "  list([0, <Action.DOWN: 1>, <Action.RIGHT: 3>]) list([-1, -2, -2])\n",
            "  list([0, <Action.DOWN: 1>, -1]) list([0, -1, <Action.LEFT: 2>])]\n",
            " [list([0, -1, <Action.RIGHT: 3>])\n",
            "  list([0, <Action.DOWN: 1>, <Action.RIGHT: 3>])\n",
            "  list([0, <Action.DOWN: 1>, <Action.RIGHT: 3>])\n",
            "  list([0, <Action.DOWN: 1>, <Action.RIGHT: 3>]) list([-1, -2, -2])\n",
            "  list([-2, -2, -2]) list([0, <Action.DOWN: 1>, <Action.RIGHT: 3>])\n",
            "  list([0, <Action.DOWN: 1>, <Action.RIGHT: 3>]) list([0, -1, -1])\n",
            "  list([-2, -2, -2])]\n",
            " [list([-2, -2, -2]) list([0, <Action.DOWN: 1>, <Action.RIGHT: 3>])\n",
            "  list([0, <Action.DOWN: 1>, <Action.RIGHT: 3>])\n",
            "  list([0, -1, <Action.RIGHT: 3>])\n",
            "  list([0, <Action.DOWN: 1>, <Action.RIGHT: 3>])\n",
            "  list([0, <Action.DOWN: 1>, <Action.RIGHT: 3>])\n",
            "  list([0, <Action.DOWN: 1>, <Action.RIGHT: 3>])\n",
            "  list([0, <Action.DOWN: 1>, -1]) list([-2, -2, -2])\n",
            "  list([0, <Action.DOWN: 1>, -1])]\n",
            " [list([0, <Action.DOWN: 1>, <Action.RIGHT: 3>])\n",
            "  list([0, <Action.DOWN: 1>, <Action.RIGHT: 3>]) list([-1, -2, -2])\n",
            "  list([-2, -2, -2]) list([0, <Action.DOWN: 1>, <Action.RIGHT: 3>])\n",
            "  list([0, <Action.DOWN: 1>, <Action.RIGHT: 3>])\n",
            "  list([0, <Action.DOWN: 1>, <Action.RIGHT: 3>])\n",
            "  list([0, <Action.DOWN: 1>, <Action.RIGHT: 3>]) list([-1, -2, -2])\n",
            "  list([0, <Action.DOWN: 1>, <Action.LEFT: 2>])]\n",
            " [list([0, -1, <Action.RIGHT: 3>]) list([0, -1, <Action.RIGHT: 3>])\n",
            "  list([0, -1, -1]) list([-2, -2, -2]) list([0, -1, <Action.RIGHT: 3>])\n",
            "  list([0, -1, <Action.RIGHT: 3>]) list([0, -1, <Action.RIGHT: 3>])\n",
            "  list([0, -1, <Action.RIGHT: 3>]) list([1, -1, -1])\n",
            "  list([0, -1, <Action.LEFT: 2>])]\n",
            " [list([0, <Action.UP: 0>, <Action.RIGHT: 3>])\n",
            "  list([0, <Action.UP: 0>, <Action.RIGHT: 3>])\n",
            "  list([0, <Action.UP: 0>, <Action.RIGHT: 3>])\n",
            "  list([0, -1, <Action.RIGHT: 3>])\n",
            "  list([0, <Action.UP: 0>, <Action.RIGHT: 3>]) list([-1, -2, -2])\n",
            "  list([0, <Action.UP: 0>, <Action.RIGHT: 3>]) list([-1, -2, -2])\n",
            "  list([0, <Action.UP: 0>, -1])\n",
            "  list([0, <Action.UP: 0>, <Action.LEFT: 2>])]\n",
            " [list([0, <Action.UP: 0>, <Action.RIGHT: 3>]) list([-1, -2, -2])\n",
            "  list([0, <Action.UP: 0>, -1]) list([-2, -2, -2])\n",
            "  list([0, <Action.UP: 0>, -1]) list([-2, -2, -2]) list([-2, -2, -2])\n",
            "  list([0, <Action.UP: 0>, <Action.RIGHT: 3>])\n",
            "  list([0, <Action.UP: 0>, -1])\n",
            "  list([0, <Action.UP: 0>, <Action.LEFT: 2>])]]\n"
          ]
        }
      ]
    },
    {
      "cell_type": "code",
      "source": [
        "transition_probs = {}\n",
        "rewards = {}\n",
        "value_function = {}\n",
        "for i in range(ROW_SIZE):\n",
        "  for j in range(COLUMN_SIZE):\n",
        "    state = (i, j)\n",
        "    value_function[state] = 0\n",
        "    for action in ACTIONS:\n",
        "      can_move, next_state = gridworld.create_transition_probs(state, action)\n",
        "      if can_move:\n",
        "        transition_probs[(state, action, next_state)] = 1\n",
        "        rewards[(state, action, next_state)] = gridworld.gridworld[next_state][1]"
      ],
      "metadata": {
        "id": "Mlr-ga3DP8zP"
      },
      "execution_count": 9,
      "outputs": []
    },
    {
      "cell_type": "code",
      "source": [
        "it = 0\n",
        "while True:\n",
        "  error = 0\n",
        "  for i in range(ROW_SIZE):\n",
        "    for j in range(COLUMN_SIZE):\n",
        "      state = (i, j)\n",
        "      old_value = value_function[state]\n",
        "      new_value = 0\n",
        "      grid = gridworld.gridworld[i, j]\n",
        "      policies = [grid[1], grid[2]]\n",
        "      for action in ACTIONS:\n",
        "        can_move, next_state = gridworld.create_transition_probs(state, action)\n",
        "        if can_move:\n",
        "          # The action probability is deterministic.\n",
        "          action_prob = 1 if action in policies else 0\n",
        "          reward = rewards.get((state, action, next_state), 0)\n",
        "          new_value += action_prob * transition_probs.get((state, action, next_state), 0) * (reward + DISCOUNT_FACTOR * value_function[next_state])\n",
        "      value_function[state] = new_value\n",
        "      error = max(error, np.abs(old_value - new_value))\n",
        "  print(f\"Iteration: {it + 1}, Error: {error}\")\n",
        "  it += 1\n",
        "\n",
        "  if error < THRESHOLD:\n",
        "    break"
      ],
      "metadata": {
        "colab": {
          "base_uri": "https://localhost:8080/"
        },
        "id": "STZ8fnmOm0op",
        "outputId": "3f6008a1-964f-4970-ee43-9a82424ea5aa"
      },
      "execution_count": 10,
      "outputs": [
        {
          "output_type": "stream",
          "name": "stdout",
          "text": [
            "Iteration: 1, Error: 2.0\n",
            "Iteration: 2, Error: 3.5999999999999996\n",
            "Iteration: 3, Error: 3.24\n",
            "Iteration: 4, Error: 4.374\n",
            "Iteration: 5, Error: 6.561\n",
            "Iteration: 6, Error: 5.9049\n",
            "Iteration: 7, Error: 6.377292000000002\n",
            "Iteration: 8, Error: 9.565938000000001\n",
            "Iteration: 9, Error: 12.914016300000002\n",
            "Iteration: 10, Error: 11.62261467\n",
            "Iteration: 11, Error: 10.460353203\n",
            "Iteration: 12, Error: 9.4143178827\n",
            "Iteration: 13, Error: 10.732322386278002\n",
            "Iteration: 14, Error: 15.7595681356398\n",
            "Iteration: 15, Error: 0\n"
          ]
        }
      ]
    },
    {
      "cell_type": "code",
      "source": [
        "def print_value_function(value_function):\n",
        "  values = np.zeros((ROW_SIZE, COLUMN_SIZE))\n",
        "  for key, value in value_function.items():\n",
        "    i, j = key\n",
        "    values[i, j] = value\n",
        "  print(values)"
      ],
      "metadata": {
        "id": "4vgJxMd1XnQ4"
      },
      "execution_count": 11,
      "outputs": []
    },
    {
      "cell_type": "code",
      "source": [
        "print_value_function(value_function)"
      ],
      "metadata": {
        "colab": {
          "base_uri": "https://localhost:8080/"
        },
        "id": "8gUFlFf_vcAW",
        "outputId": "8b294e10-0eee-4a83-8895-2fac491220b0"
      },
      "execution_count": 12,
      "outputs": [
        {
          "output_type": "stream",
          "name": "stdout",
          "text": [
            "[[22.77498238 18.44878409 13.15095118  6.69497288  0.          0.\n",
            "  -1.          0.          0.          0.        ]\n",
            " [ 4.63452967  5.12547559  5.69497288  5.21663653  0.          3.2818744\n",
            "   0.          0.          0.          0.        ]\n",
            " [-2.1982204   0.          0.          6.90737392  6.5637488   2.535416\n",
            "   0.          0.          0.          0.        ]\n",
            " [-2.44246711  0.         -1.8352898   0.          2.535416    3.92824\n",
            "   3.2536      0.         -1.          0.1       ]\n",
            " [-1.60274123 -2.8919347  -3.150322   -2.86129     0.          0.\n",
            "   2.504       0.09        0.          0.        ]\n",
            " [ 0.         -2.285161   -2.86129    -2.0681     -3.409      -0.574\n",
            "   0.47        0.1         0.          0.1       ]\n",
            " [-3.42       -1.9         0.          0.         -5.436      -3.33\n",
            "  -1.8        -1.          0.         -1.        ]\n",
            " [-1.9        -1.          0.          0.         -2.71       -1.9\n",
            "  -1.          0.          0.          0.        ]\n",
            " [-8.2963279  -6.207031   -4.78559    -3.0951     -3.439       0.\n",
            "  -1.9         0.          0.         -1.        ]\n",
            " [-7.46669511  0.         -4.307031    0.         -3.0951      0.\n",
            "   0.          0.          0.         -0.9       ]]\n"
          ]
        }
      ]
    },
    {
      "cell_type": "code",
      "source": [],
      "metadata": {
        "id": "7Q4YfWkDWXoO"
      },
      "execution_count": null,
      "outputs": []
    }
  ]
}