{
  "nbformat": 4,
  "nbformat_minor": 0,
  "metadata": {
    "colab": {
      "provenance": []
    },
    "kernelspec": {
      "name": "python3",
      "display_name": "Python 3"
    },
    "language_info": {
      "name": "python"
    }
  },
  "cells": [
    {
      "cell_type": "code",
      "source": [
        "import numpy as np\n",
        "import matplotlib.pyplot as plt\n",
        "from enum import IntEnum"
      ],
      "metadata": {
        "id": "sI7hPxAfAXcr"
      },
      "execution_count": 11,
      "outputs": []
    },
    {
      "cell_type": "code",
      "source": [
        "class Action(IntEnum):\n",
        "  UP = 0\n",
        "  DOWN = 1\n",
        "  LEFT = 2\n",
        "  RIGHT = 3"
      ],
      "metadata": {
        "id": "w0XKVTjvegXA"
      },
      "execution_count": 12,
      "outputs": []
    },
    {
      "cell_type": "code",
      "source": [
        "class State(IntEnum):\n",
        "  ACCESSIBLE_GRID = 0\n",
        "  INACCESSIBLE_GRID = -2\n",
        "  LOSER_GRID = -1\n",
        "  WINNER_GRID = 1"
      ],
      "metadata": {
        "id": "TaeuHxbxe3rL"
      },
      "execution_count": 13,
      "outputs": []
    },
    {
      "cell_type": "code",
      "source": [
        "STATE_PROBS = [0.7, 0.2, 0.1] # prob of accessible grid, prob of inaccessible grid, prob of loser grid\n",
        "STATES = [State.ACCESSIBLE_GRID, State.INACCESSIBLE_GRID, State.LOSER_GRID, State.WINNER_GRID]\n",
        "UNKNOWN_POLICY = -2 # the policy is unknown for now, the policies are going to be determined after creating the gridworld\n",
        "ACTIONS = [Action.UP, Action.DOWN, Action.LEFT, Action.RIGHT]\n",
        "ROW_SIZE = 10\n",
        "COLUMN_SIZE = 10\n",
        "THRESHOLD = 1e-3\n",
        "DISCOUNT_FACTOR = 0.9"
      ],
      "metadata": {
        "id": "slN8SNQj-Hdw"
      },
      "execution_count": 14,
      "outputs": []
    },
    {
      "cell_type": "code",
      "execution_count": 15,
      "metadata": {
        "id": "FoWKIkHJ9cyt"
      },
      "outputs": [],
      "source": [
        "class Gridworld:\n",
        "  def __init__(self, row_size, column_size, start_position):\n",
        "    assert(row_size * column_size >= 10) # creating a complex gridworld\n",
        "    self.gridworld, self.winner_position = self.create_gridworld(row_size, column_size)\n",
        "    row, column = start_position\n",
        "    assert(self.gridworld[row, column][0] == 0) # the starting position should be accessible and should not cause the termination of the game\n",
        "    self.start_position = start_position\n",
        "    self.position = start_position\n",
        "    # print(self.gridworld) # For debug purposes\n",
        "    self.available_moves = self.check_available_moves(row_size, column_size)\n",
        "    # print(self.available_moves) # For debug purposes\n",
        "    self.create_policy(row_size, column_size)\n",
        "    print(self.gridworld) # For debug purposes\n",
        "\n",
        "  def create_gridworld(self, row_size, column_size):\n",
        "    out = np.empty((row_size, column_size), dtype=object)\n",
        "    total_number_of_grids = row_size * column_size\n",
        "    number_of_accessible_grid = int(total_number_of_grids * STATE_PROBS[State.ACCESSIBLE_GRID])\n",
        "    number_of_inaccessible_grid = int(total_number_of_grids * STATE_PROBS[State.INACCESSIBLE_GRID])\n",
        "    # We subtract the number of winner grid which is 1.\n",
        "    number_of_loser_grid = total_number_of_grids - number_of_accessible_grid - number_of_inaccessible_grid - 1\n",
        "    # create a distribution of states\n",
        "    new_state_probs = np.array([number_of_accessible_grid, number_of_inaccessible_grid, number_of_loser_grid]) / (total_number_of_grids - 1)\n",
        "    # determine the winner state for policy creation\n",
        "    winner_position_row = np.random.choice(row_size - 1)\n",
        "    winner_position_column = np.random.choice(column_size - 1)\n",
        "    state = np.random.choice(STATES[:-1], p=new_state_probs, size=(ROW_SIZE, COLUMN_SIZE))\n",
        "    out[winner_position_row, winner_position_column] = [1, UNKNOWN_POLICY, UNKNOWN_POLICY]\n",
        "    for i in range(row_size):\n",
        "      for j in range(column_size):\n",
        "        if i == winner_position_row and j == winner_position_column:\n",
        "          continue\n",
        "        out[i, j] = [state[i, j], UNKNOWN_POLICY, UNKNOWN_POLICY]\n",
        "    return out, (winner_position_row, winner_position_column)\n",
        "\n",
        "  def game_over(self):\n",
        "    row, column = self.starting_position\n",
        "    return self.gridworld[row, column][0] % 10 == 0 # whether we lost or won the game terminates\n",
        "\n",
        "  # helper method which doesn't take extreme cases into consideration\n",
        "  def move_calculate_position(self, position, action):\n",
        "    if action == Action.UP:\n",
        "      return [position[0] - 1, position[1]]\n",
        "    elif action == Action.DOWN:\n",
        "      return [position[0] + 1, position[1]]\n",
        "    elif action == Action.LEFT:\n",
        "      return [position[0], position[1] - 1]\n",
        "    elif action == Action.RIGHT:\n",
        "      return [position[0], position[1] + 1]\n",
        "\n",
        "  def move_simulation(self, position, action):\n",
        "    can_move = True\n",
        "    not_going_to_move_up_or_down = (position[0] == 0 and action == Action.UP) or (position[0] == ROW_SIZE - 1 and action == Action.DOWN)\n",
        "    not_going_to_move_left_or_right = (position[1] == 0 and action == Action.LEFT) or (position[1] == COLUMN_SIZE - 1 and action == Action.RIGHT)\n",
        "    can_move = can_move and not(not_going_to_move_up_or_down or not_going_to_move_left_or_right)\n",
        "    if can_move:\n",
        "      row, column = self.move_calculate_position(position, action)\n",
        "      # check if we step into the inaccessible grid\n",
        "      can_move = can_move and self.gridworld[row, column][0] != -2\n",
        "    return can_move, [row, column] if can_move else position\n",
        "\n",
        "  def create_transition_probs(self, position, action):\n",
        "    can_move = True\n",
        "    not_going_to_move_up_or_down = (position[0] == 0 and action == Action.UP) or (position[0] == ROW_SIZE - 1 and action == Action.DOWN)\n",
        "    not_going_to_move_left_or_right = (position[1] == 0 and action == Action.LEFT) or (position[1] == COLUMN_SIZE - 1 and action == Action.RIGHT)\n",
        "    can_move = can_move and not(not_going_to_move_up_or_down or not_going_to_move_left_or_right)\n",
        "    if can_move:\n",
        "      row, column = self.move_calculate_position(position, action)\n",
        "      # check if we step into the invalid grid\n",
        "      can_move = can_move and self.gridworld[row, column][0] == 0\n",
        "    return can_move, (row, column) if can_move else position\n",
        "\n",
        "  def move(self, action):\n",
        "    self.position = list(self.move_simulation(self.position, action))\n",
        "\n",
        "  def check_available_moves(self, row_size, column_size):\n",
        "    moves = np.empty((row_size, column_size), dtype=object)\n",
        "    for i in range(row_size):\n",
        "      for j in range(column_size):\n",
        "        move_list = []\n",
        "        if self.gridworld[i, j][0] != 0:\n",
        "          moves[i, j] = move_list\n",
        "          continue # non-playable grid\n",
        "        if self.move_simulation([i, j], Action.DOWN)[0]:\n",
        "          move_list.append(Action.DOWN)\n",
        "        if self.move_simulation([i, j], Action.UP)[0]:\n",
        "          move_list.append(Action.UP)\n",
        "        if self.move_simulation([i, j], Action.LEFT)[0]:\n",
        "          move_list.append(Action.LEFT)\n",
        "        if self.move_simulation([i, j], Action.RIGHT)[0]:\n",
        "          move_list.append(Action.RIGHT)\n",
        "        moves[i, j] = move_list\n",
        "    return moves\n",
        "\n",
        "  def create_policy(self, row_size, column_size):\n",
        "    winner_row, winner_column = self.winner_position\n",
        "    for i in range(row_size):\n",
        "      for j in range(column_size):\n",
        "        action_up_down = -1\n",
        "        action_left_right = -1\n",
        "        if self.gridworld[i, j][0] < 0:\n",
        "          continue # non-playable grid\n",
        "        elif winner_row > i and self.move_simulation([i, j], Action.DOWN)[0]:\n",
        "          action_up_down = Action.DOWN\n",
        "        elif winner_row < i and self.move_simulation([i, j], Action.UP)[0]:\n",
        "          action_up_down = Action.UP\n",
        "        if winner_column < j and self.move_simulation([i, j], Action.LEFT)[0]:\n",
        "          action_left_right = Action.LEFT\n",
        "        elif winner_column > j and self.move_simulation([i, j], Action.RIGHT)[0]:\n",
        "          action_left_right = Action.RIGHT\n",
        "        self.gridworld[i, j][1] = action_up_down\n",
        "        self.gridworld[i, j][2] = action_left_right"
      ]
    },
    {
      "cell_type": "code",
      "source": [
        "gridworld = Gridworld(ROW_SIZE, COLUMN_SIZE, [ROW_SIZE - 1, 0]);"
      ],
      "metadata": {
        "colab": {
          "base_uri": "https://localhost:8080/"
        },
        "id": "kMO0CVaQGO_O",
        "outputId": "86d02cf3-ad31-44aa-e08f-17de84008d0b"
      },
      "execution_count": 32,
      "outputs": [
        {
          "output_type": "stream",
          "name": "stdout",
          "text": [
            "[[list([0, <Action.DOWN: 1>, <Action.RIGHT: 3>])\n",
            "  list([0, <Action.DOWN: 1>, -1]) list([-2, -2, -2]) list([-2, -2, -2])\n",
            "  list([0, <Action.DOWN: 1>, -1]) list([-2, -2, -2])\n",
            "  list([0, <Action.DOWN: 1>, <Action.RIGHT: 3>])\n",
            "  list([0, <Action.DOWN: 1>, <Action.RIGHT: 3>])\n",
            "  list([0, <Action.DOWN: 1>, -1]) list([-1, -2, -2])]\n",
            " [list([0, -1, <Action.RIGHT: 3>]) list([0, -1, -1]) list([-2, -2, -2])\n",
            "  list([0, <Action.DOWN: 1>, <Action.RIGHT: 3>])\n",
            "  list([0, <Action.DOWN: 1>, <Action.RIGHT: 3>])\n",
            "  list([0, <Action.DOWN: 1>, <Action.RIGHT: 3>])\n",
            "  list([0, -1, <Action.RIGHT: 3>]) list([0, -1, <Action.RIGHT: 3>])\n",
            "  list([0, <Action.DOWN: 1>, -1]) list([-2, -2, -2])]\n",
            " [list([-2, -2, -2]) list([-2, -2, -2]) list([0, -1, <Action.RIGHT: 3>])\n",
            "  list([0, -1, <Action.RIGHT: 3>]) list([0, -1, <Action.RIGHT: 3>])\n",
            "  list([0, <Action.DOWN: 1>, -1]) list([-2, -2, -2]) list([-2, -2, -2])\n",
            "  list([0, <Action.DOWN: 1>, -1]) list([0, -1, <Action.LEFT: 2>])]\n",
            " [list([0, <Action.DOWN: 1>, <Action.RIGHT: 3>])\n",
            "  list([0, <Action.DOWN: 1>, -1]) list([-2, -2, -2]) list([-2, -2, -2])\n",
            "  list([-2, -2, -2]) list([-1, -2, -2]) list([0, -1, -1])\n",
            "  list([-2, -2, -2]) list([-1, -2, -2]) list([-2, -2, -2])]\n",
            " [list([0, <Action.DOWN: 1>, <Action.RIGHT: 3>])\n",
            "  list([0, <Action.DOWN: 1>, <Action.RIGHT: 3>])\n",
            "  list([0, <Action.DOWN: 1>, <Action.RIGHT: 3>])\n",
            "  list([0, <Action.DOWN: 1>, <Action.RIGHT: 3>])\n",
            "  list([0, <Action.DOWN: 1>, <Action.RIGHT: 3>])\n",
            "  list([0, <Action.DOWN: 1>, -1]) list([-2, -2, -2]) list([-2, -2, -2])\n",
            "  list([0, -1, -1]) list([0, <Action.DOWN: 1>, <Action.LEFT: 2>])]\n",
            " [list([0, <Action.DOWN: 1>, <Action.RIGHT: 3>])\n",
            "  list([0, <Action.DOWN: 1>, <Action.RIGHT: 3>])\n",
            "  list([0, <Action.DOWN: 1>, <Action.RIGHT: 3>])\n",
            "  list([0, <Action.DOWN: 1>, <Action.RIGHT: 3>])\n",
            "  list([0, -1, <Action.RIGHT: 3>]) list([0, <Action.DOWN: 1>, -1])\n",
            "  list([-2, -2, -2]) list([0, <Action.DOWN: 1>, -1]) list([-2, -2, -2])\n",
            "  list([0, <Action.DOWN: 1>, -1])]\n",
            " [list([0, <Action.DOWN: 1>, <Action.RIGHT: 3>])\n",
            "  list([0, <Action.DOWN: 1>, <Action.RIGHT: 3>])\n",
            "  list([0, <Action.DOWN: 1>, <Action.RIGHT: 3>])\n",
            "  list([0, <Action.DOWN: 1>, -1]) list([-2, -2, -2]) list([-1, -2, -2])\n",
            "  list([-2, -2, -2]) list([0, -1, <Action.RIGHT: 3>])\n",
            "  list([0, <Action.DOWN: 1>, -1])\n",
            "  list([0, <Action.DOWN: 1>, <Action.LEFT: 2>])]\n",
            " [list([0, <Action.DOWN: 1>, <Action.RIGHT: 3>])\n",
            "  list([0, <Action.DOWN: 1>, <Action.RIGHT: 3>])\n",
            "  list([0, <Action.DOWN: 1>, <Action.RIGHT: 3>])\n",
            "  list([0, <Action.DOWN: 1>, -1]) list([-2, -2, -2]) list([-1, -2, -2])\n",
            "  list([0, -1, -1]) list([-2, -2, -2]) list([0, <Action.DOWN: 1>, -1])\n",
            "  list([0, <Action.DOWN: 1>, <Action.LEFT: 2>])]\n",
            " [list([0, -1, <Action.RIGHT: 3>]) list([0, -1, <Action.RIGHT: 3>])\n",
            "  list([-1, -2, -2]) list([0, -1, <Action.RIGHT: 3>]) list([-1, -2, -2])\n",
            "  list([0, -1, -1]) list([-2, -2, -2]) list([0, -1, <Action.RIGHT: 3>])\n",
            "  list([1, -1, -1]) list([0, -1, <Action.LEFT: 2>])]\n",
            " [list([0, <Action.UP: 0>, <Action.RIGHT: 3>])\n",
            "  list([0, <Action.UP: 0>, <Action.RIGHT: 3>])\n",
            "  list([0, <Action.UP: 0>, <Action.RIGHT: 3>])\n",
            "  list([0, <Action.UP: 0>, <Action.RIGHT: 3>])\n",
            "  list([0, <Action.UP: 0>, -1]) list([-2, -2, -2])\n",
            "  list([0, -1, <Action.RIGHT: 3>])\n",
            "  list([0, <Action.UP: 0>, <Action.RIGHT: 3>])\n",
            "  list([0, <Action.UP: 0>, -1]) list([-1, -2, -2])]]\n"
          ]
        }
      ]
    },
    {
      "cell_type": "code",
      "source": [
        "transition_probs = {}\n",
        "rewards = {}\n",
        "value_function = {}\n",
        "for i in range(ROW_SIZE):\n",
        "  for j in range(COLUMN_SIZE):\n",
        "    state = (i, j)\n",
        "    value_function[state] = 0\n",
        "    for action in ACTIONS:\n",
        "      can_move, next_state = gridworld.create_transition_probs(state, action)\n",
        "      if can_move:\n",
        "        transition_probs[(state, action, next_state)] = 1\n",
        "        rewards[(state, action, next_state)] = - 1"
      ],
      "metadata": {
        "id": "Mlr-ga3DP8zP"
      },
      "execution_count": 33,
      "outputs": []
    },
    {
      "cell_type": "code",
      "source": [
        "it = 0\n",
        "while True:\n",
        "  error = 0\n",
        "  for i in range(ROW_SIZE):\n",
        "    for j in range(COLUMN_SIZE):\n",
        "      state = (i, j)\n",
        "      old_value = value_function[state]\n",
        "      new_value = 0\n",
        "      grid = gridworld.gridworld[i, j]\n",
        "      policies = [grid[1], grid[2]]\n",
        "      for action in ACTIONS:\n",
        "        can_move, next_state = gridworld.create_transition_probs(state, action)\n",
        "        if can_move:\n",
        "          # The action probability is deterministic.\n",
        "          action_prob = 1 if action in policies else 0\n",
        "          reward = rewards.get((state, action, next_state), 0)\n",
        "          new_value += action_prob * transition_probs.get((state, action, next_state), 0) * (reward + DISCOUNT_FACTOR * value_function[next_state])\n",
        "      value_function[state] = new_value\n",
        "      error = max(error, np.abs(old_value - new_value))\n",
        "  print(f\"Iteration: {it + 1}, Error: {error}\")\n",
        "  it += 1\n",
        "\n",
        "  if error < THRESHOLD:\n",
        "    break"
      ],
      "metadata": {
        "colab": {
          "base_uri": "https://localhost:8080/"
        },
        "id": "STZ8fnmOm0op",
        "outputId": "66c31922-decf-48fd-f2d5-4bd31cdddb7a"
      },
      "execution_count": 34,
      "outputs": [
        {
          "output_type": "stream",
          "name": "stdout",
          "text": [
            "Iteration: 1, Error: 2.9\n",
            "Iteration: 2, Error: 3.5999999999999996\n",
            "Iteration: 3, Error: 6.48\n",
            "Iteration: 4, Error: 11.664\n",
            "Iteration: 5, Error: 20.339100000000002\n",
            "Iteration: 6, Error: 27.753030000000003\n",
            "Iteration: 7, Error: 21.78908099999999\n",
            "Iteration: 8, Error: 14.348907000000025\n",
            "Iteration: 9, Error: 0\n"
          ]
        }
      ]
    },
    {
      "cell_type": "code",
      "source": [
        "def print_value_function(value_function):\n",
        "  values = np.zeros((ROW_SIZE, COLUMN_SIZE))\n",
        "  for key, value in value_function.items():\n",
        "    i, j = key\n",
        "    values[i, j] = value\n",
        "  print(values)"
      ],
      "metadata": {
        "id": "4vgJxMd1XnQ4"
      },
      "execution_count": 35,
      "outputs": []
    },
    {
      "cell_type": "code",
      "source": [
        "print_value_function(value_function)"
      ],
      "metadata": {
        "colab": {
          "base_uri": "https://localhost:8080/"
        },
        "id": "8gUFlFf_vcAW",
        "outputId": "d617f5b5-9bea-443e-b6c5-f55d63c08b8b"
      },
      "execution_count": 36,
      "outputs": [
        {
          "output_type": "stream",
          "name": "stdout",
          "text": [
            "[[ -3.8       -1.         0.         0.        -7.20559    0.\n",
            "   -9.317     -5.42      -1.9        0.      ]\n",
            " [ -1.         0.         0.        -9.91559   -6.8951    -4.439\n",
            "   -2.71      -1.9       -1.         0.      ]\n",
            " [  0.         0.        -2.71      -1.9       -1.         0.\n",
            "    0.         0.         0.        -1.      ]\n",
            " [-97.945418 -36.54136    0.         0.         0.         0.\n",
            "    0.         0.         0.         0.      ]\n",
            " [-70.06466  -39.4904   -20.5364    -9.569     -3.8       -1.\n",
            "    0.         0.         0.        -6.707   ]\n",
            " [-36.137    -21.1196   -11.027     -4.61      -1.         0.\n",
            "    0.        -2.71       0.        -5.23    ]\n",
            " [-16.8104   -10.217     -5.42      -1.9        0.         0.\n",
            "    0.        -1.9       -1.        -4.7     ]\n",
            " [ -6.239     -3.71      -1.9       -1.         0.         0.\n",
            "    0.         0.         0.        -2.      ]\n",
            " [ -1.         0.         0.         0.         0.         0.\n",
            "    0.         0.         0.         0.      ]\n",
            " [ -6.968     -4.52      -2.8       -2.         0.         0.\n",
            "   -2.8       -2.         0.         0.      ]]\n"
          ]
        }
      ]
    },
    {
      "cell_type": "code",
      "source": [],
      "metadata": {
        "id": "7Q4YfWkDWXoO"
      },
      "execution_count": null,
      "outputs": []
    }
  ]
}