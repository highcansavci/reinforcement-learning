{
  "nbformat": 4,
  "nbformat_minor": 0,
  "metadata": {
    "colab": {
      "provenance": []
    },
    "kernelspec": {
      "name": "python3",
      "display_name": "Python 3"
    },
    "language_info": {
      "name": "python"
    }
  },
  "cells": [
    {
      "cell_type": "code",
      "source": [
        "import numpy as np\n",
        "import matplotlib.pyplot as plt\n",
        "from enum import IntEnum"
      ],
      "metadata": {
        "id": "sI7hPxAfAXcr"
      },
      "execution_count": 1,
      "outputs": []
    },
    {
      "cell_type": "code",
      "source": [
        "STATE_PROBS = [0.9, 0.075, 0.025] # prob of accessible grid, prob of inaccessible grid, prob of loser grid\n",
        "REWARDS = [0, -2, -1, 1] # accessible, inaccessible, loser, winner grid rewards\n",
        "UNKNOWN_POLICY = -2 # the policy is unknown for now, the policies are going to be determined after creating the gridworld\n",
        "ACTIONS = [0, 1, 2, 3] # up, down, left, right\n",
        "ROW_SIZE = 10\n",
        "COLUMN_SIZE = 10\n",
        "THRESHOLD = 1e-4\n",
        "DISCOUNT_FACTOR = 0.9"
      ],
      "metadata": {
        "id": "slN8SNQj-Hdw"
      },
      "execution_count": 2,
      "outputs": []
    },
    {
      "cell_type": "code",
      "execution_count": 3,
      "metadata": {
        "id": "FoWKIkHJ9cyt"
      },
      "outputs": [],
      "source": [
        "class WindyGridworld:\n",
        "  def __init__(self, row_size, column_size, start_position):\n",
        "    assert(row_size * column_size >= 10) # creating a complex gridworld\n",
        "    self.gridworld, self.winner_position = self.create_gridworld(row_size, column_size)\n",
        "    row, column = start_position\n",
        "    assert(self.gridworld[row, column][0] == 0) # the starting position should be accessible and should not cause the termination of the game\n",
        "    self.start_position = start_position\n",
        "    self.position = start_position\n",
        "    self.available_moves = self.check_available_moves(row_size, column_size)\n",
        "    self.create_policy(row_size, column_size)\n",
        "    self.print_gridworld(row_size, column_size)\n",
        "\n",
        "  def create_gridworld(self, row_size, column_size):\n",
        "    out = np.empty((row_size, column_size), dtype=object)\n",
        "    total_number_of_grids = row_size * column_size\n",
        "    number_of_accessible_grid = int(total_number_of_grids * STATE_PROBS[0])\n",
        "    number_of_inaccessible_grid = int(total_number_of_grids * STATE_PROBS[1])\n",
        "    # We subtract the number of winner grid which is 1.\n",
        "    number_of_loser_grid = total_number_of_grids - number_of_accessible_grid - number_of_inaccessible_grid - 1\n",
        "    # create a distribution of states\n",
        "    new_state_probs = np.array([number_of_accessible_grid, number_of_inaccessible_grid, number_of_loser_grid]) / (total_number_of_grids - 1)\n",
        "    # determine the winner state for policy creation\n",
        "    winner_position_row = np.random.choice(row_size - 1)\n",
        "    winner_position_column = np.random.choice(column_size - 1)\n",
        "    state = np.random.choice(REWARDS[:-1], p=new_state_probs, size=(ROW_SIZE, COLUMN_SIZE))\n",
        "    out[winner_position_row, winner_position_column] = [REWARDS[-1], UNKNOWN_POLICY]\n",
        "    for i in range(row_size):\n",
        "      for j in range(column_size):\n",
        "        if i == winner_position_row and j == winner_position_column:\n",
        "          continue\n",
        "        out[i, j] = [state[i, j], UNKNOWN_POLICY]\n",
        "    return out, (winner_position_row, winner_position_column)\n",
        "\n",
        "  def game_over(self):\n",
        "    row, column = self.starting_position\n",
        "    return self.gridworld[row, column][0] % 2 == -1 # whether we lost or won the game terminates\n",
        "\n",
        "  # helper method which doesn't take extreme cases into consideration\n",
        "  def move_calculate_position(self, position, action):\n",
        "    if action == 0:\n",
        "      return [position[0] - 1, position[1]]\n",
        "    elif action == 1:\n",
        "      return [position[0] + 1, position[1]]\n",
        "    elif action == 2:\n",
        "      return [position[0], position[1] - 1]\n",
        "    elif action == 3:\n",
        "      return [position[0], position[1] + 1]\n",
        "\n",
        "  def move_simulation(self, position, action):\n",
        "    # check if we step into the invalid grid\n",
        "    row, column = position\n",
        "    can_move = self.gridworld[row, column][0] != -2\n",
        "    not_going_to_move_up_or_down = (row == 0 and action == 0) or (row == ROW_SIZE - 1 and action == 1)\n",
        "    not_going_to_move_left_or_right = (column == 0 and action == 2) or (column == COLUMN_SIZE - 1 and action == 3)\n",
        "    can_move = can_move and not(not_going_to_move_up_or_down or not_going_to_move_left_or_right)\n",
        "    if can_move:\n",
        "      row, column = self.move_calculate_position(position, action)\n",
        "      # check if we step into the invalid grid\n",
        "      can_move = can_move and self.gridworld[row, column][0] != -2\n",
        "    return can_move, (row, column)\n",
        "\n",
        "  def create_transition_probs(self, position, action):\n",
        "    # check if we step into the invalid grid\n",
        "    row, column = position\n",
        "    can_move = self.gridworld[row, column][0] != -2\n",
        "    not_going_to_move_up_or_down = (row == 0 and action == 0) or (row == ROW_SIZE - 1 and action == 1)\n",
        "    not_going_to_move_left_or_right = (column == 0 and action == 2) or (column == COLUMN_SIZE - 1 and action == 3)\n",
        "    can_move = can_move and not(not_going_to_move_up_or_down or not_going_to_move_left_or_right)\n",
        "    if can_move:\n",
        "      row, column = self.move_calculate_position(position, action)\n",
        "      # check if we step into the invalid grid\n",
        "      can_move = can_move and self.gridworld[row, column][0] != -2\n",
        "    return can_move, (row, column)\n",
        "\n",
        "  def move(self, action):\n",
        "    self.position = list(self.move_simulation(self.position, action))\n",
        "\n",
        "  def check_available_moves(self, row_size, column_size):\n",
        "    moves = np.empty((row_size, column_size), dtype=object)\n",
        "    for i in range(row_size):\n",
        "      for j in range(column_size):\n",
        "        move_list = []\n",
        "        if self.gridworld[i, j][0] != 0:\n",
        "          moves[i, j] = move_list\n",
        "          continue # non-playable grid\n",
        "        if self.move_simulation([i, j], 1)[0]:\n",
        "          move_list.append(1)\n",
        "        if self.move_simulation([i, j], 0)[0]:\n",
        "          move_list.append(0)\n",
        "        if self.move_simulation([i, j], 2)[0]:\n",
        "          move_list.append(2)\n",
        "        if self.move_simulation([i, j], 3)[0]:\n",
        "          move_list.append(3)\n",
        "        moves[i, j] = move_list\n",
        "    return moves\n",
        "\n",
        "  def create_policy(self, row_size, column_size):\n",
        "    for i in range(row_size):\n",
        "      for j in range(column_size):\n",
        "        if self.gridworld[i, j][0] != 0:\n",
        "          continue # non-playable grid\n",
        "        self.gridworld[i, j][1] = np.random.choice(ACTIONS)\n",
        "\n",
        "  def print_gridworld(self, row_size, column_size):\n",
        "    for i in range(row_size):\n",
        "      for j in range(column_size):\n",
        "        grid = self.gridworld[i, j]\n",
        "        if grid[0] == 0:\n",
        "          print(\"[  ]\" + \"\\t\", end=\"\")\n",
        "        elif grid[0] == -2:\n",
        "          print(\"[xx]\" + \"\\t\", end=\"\")\n",
        "        elif grid[0] == -1:\n",
        "          print(\"[-1]\" + \"\\t\", end=\"\")\n",
        "        elif grid[0] == 1:\n",
        "          print(\"[+1]\" + \"\\t\", end=\"\")\n",
        "      print(\"\\n\")\n",
        "\n",
        "  def print_policy(self, row_size, column_size):\n",
        "    for i in range(row_size):\n",
        "      for j in range(column_size):\n",
        "        grid = self.gridworld[i, j]\n",
        "        print(str(ACTIONS[grid[1]]) + \"\\t\" if grid[0] >= 0 else \"X\\t\", end=\"\")\n",
        "      print(\"\\n\")"
      ]
    },
    {
      "cell_type": "code",
      "source": [
        "gridworld = WindyGridworld(ROW_SIZE, COLUMN_SIZE, [ROW_SIZE - 1, 0]);"
      ],
      "metadata": {
        "colab": {
          "base_uri": "https://localhost:8080/"
        },
        "id": "kMO0CVaQGO_O",
        "outputId": "bd66d82e-356e-4540-dc01-5d17725a8670"
      },
      "execution_count": 5,
      "outputs": [
        {
          "output_type": "stream",
          "name": "stdout",
          "text": [
            "[  ]\t[  ]\t[  ]\t[  ]\t[  ]\t[  ]\t[  ]\t[  ]\t[  ]\t[  ]\t\n",
            "\n",
            "[  ]\t[-1]\t[  ]\t[  ]\t[  ]\t[  ]\t[  ]\t[  ]\t[  ]\t[  ]\t\n",
            "\n",
            "[  ]\t[  ]\t[  ]\t[  ]\t[xx]\t[  ]\t[  ]\t[  ]\t[  ]\t[  ]\t\n",
            "\n",
            "[  ]\t[  ]\t[  ]\t[+1]\t[  ]\t[  ]\t[  ]\t[-1]\t[  ]\t[  ]\t\n",
            "\n",
            "[  ]\t[  ]\t[  ]\t[  ]\t[xx]\t[  ]\t[  ]\t[  ]\t[  ]\t[  ]\t\n",
            "\n",
            "[  ]\t[  ]\t[  ]\t[-1]\t[-1]\t[  ]\t[  ]\t[-1]\t[  ]\t[  ]\t\n",
            "\n",
            "[  ]\t[  ]\t[  ]\t[  ]\t[  ]\t[  ]\t[  ]\t[  ]\t[  ]\t[  ]\t\n",
            "\n",
            "[  ]\t[  ]\t[  ]\t[  ]\t[  ]\t[  ]\t[  ]\t[  ]\t[  ]\t[  ]\t\n",
            "\n",
            "[  ]\t[  ]\t[  ]\t[  ]\t[  ]\t[  ]\t[  ]\t[  ]\t[  ]\t[  ]\t\n",
            "\n",
            "[  ]\t[  ]\t[-1]\t[-1]\t[  ]\t[  ]\t[  ]\t[  ]\t[  ]\t[  ]\t\n",
            "\n"
          ]
        }
      ]
    },
    {
      "cell_type": "code",
      "source": [
        "gridworld.print_policy(ROW_SIZE, COLUMN_SIZE)"
      ],
      "metadata": {
        "colab": {
          "base_uri": "https://localhost:8080/"
        },
        "id": "AeGDK7JOabzi",
        "outputId": "dfda73e2-e2cc-4349-e8a8-7d211d94a787"
      },
      "execution_count": 6,
      "outputs": [
        {
          "output_type": "stream",
          "name": "stdout",
          "text": [
            "0\t0\t3\t1\t2\t2\t0\t1\t2\t3\t\n",
            "\n",
            "0\tX\t1\t0\t0\t1\t2\t3\t2\t2\t\n",
            "\n",
            "1\t0\t1\t1\tX\t0\t0\t1\t1\t3\t\n",
            "\n",
            "0\t0\t2\t2\t3\t2\t0\tX\t1\t2\t\n",
            "\n",
            "1\t1\t2\t2\tX\t2\t0\t0\t0\t2\t\n",
            "\n",
            "2\t1\t1\tX\tX\t2\t1\tX\t0\t3\t\n",
            "\n",
            "2\t0\t1\t3\t2\t0\t2\t2\t2\t0\t\n",
            "\n",
            "1\t0\t3\t1\t3\t3\t2\t3\t0\t2\t\n",
            "\n",
            "2\t3\t2\t2\t3\t0\t0\t3\t1\t0\t\n",
            "\n",
            "0\t0\tX\tX\t0\t0\t3\t0\t0\t1\t\n",
            "\n"
          ]
        }
      ]
    },
    {
      "cell_type": "code",
      "source": [
        "def create_transition_probs_rewards_table(gridworld):\n",
        "  transition_probs = {}\n",
        "  rewards = {}\n",
        "  moves = gridworld.check_available_moves(ROW_SIZE, COLUMN_SIZE)\n",
        "  for i in range(ROW_SIZE):\n",
        "    for j in range(COLUMN_SIZE):\n",
        "      state = (i, j)\n",
        "      if gridworld.gridworld[state][0] == 0:\n",
        "        for action in ACTIONS:\n",
        "          can_move, next_state = gridworld.create_transition_probs(state, action)\n",
        "          if can_move:\n",
        "            state_values = gridworld.gridworld[state]\n",
        "            equal_prob = len(moves[i, j])\n",
        "            transition_probs[(state, action, next_state)] = 0 if equal_prob == 0 else 1 / equal_prob\n",
        "            rewards[(state, action, next_state)] = gridworld.gridworld[next_state][1]\n",
        "\n",
        "  return transition_probs, rewards"
      ],
      "metadata": {
        "id": "Mlr-ga3DP8zP"
      },
      "execution_count": 7,
      "outputs": []
    },
    {
      "cell_type": "code",
      "source": [
        "def deterministic_policy_evaluation(gridworld, value_function):\n",
        "  it = 0\n",
        "  while True:\n",
        "    error = 0\n",
        "    for i in range(ROW_SIZE):\n",
        "      for j in range(COLUMN_SIZE):\n",
        "        state = (i, j)\n",
        "        old_value = value_function[state]\n",
        "        new_value = 0\n",
        "        grid = gridworld.gridworld[i, j]\n",
        "        if grid[0] == 0:\n",
        "          for action in ACTIONS:\n",
        "            for k in range(ROW_SIZE):\n",
        "              for l in range(COLUMN_SIZE):\n",
        "                next_state = (k, l)\n",
        "                action_prob = 1 if action == grid[1] else 0\n",
        "                reward = rewards.get((state, action, next_state), 0)\n",
        "                new_value += action_prob * transition_probs.get((state, action, next_state), 0) * (reward + DISCOUNT_FACTOR * value_function[next_state])\n",
        "          value_function[state] = new_value\n",
        "          error = max(error, np.abs(old_value - new_value))\n",
        "    print(f\"Iteration: {it + 1}, Error: {error}\")\n",
        "    it += 1\n",
        "\n",
        "    if error < THRESHOLD:\n",
        "      break\n",
        "\n",
        "  return value_function"
      ],
      "metadata": {
        "id": "STZ8fnmOm0op"
      },
      "execution_count": 8,
      "outputs": []
    },
    {
      "cell_type": "code",
      "source": [
        "transition_probs, rewards = create_transition_probs_rewards_table(gridworld)"
      ],
      "metadata": {
        "id": "Yokh6pmbKveL"
      },
      "execution_count": 9,
      "outputs": []
    },
    {
      "cell_type": "code",
      "source": [
        "value_function = {}\n",
        "it = 0\n",
        "for i in range(ROW_SIZE):\n",
        "    for j in range(COLUMN_SIZE):\n",
        "      state = (i, j)\n",
        "      value_function[state] = 0\n",
        "\n",
        "while True:\n",
        "  value_function = deterministic_policy_evaluation(gridworld, value_function)\n",
        "  is_policy_converged = True\n",
        "  for i in range(ROW_SIZE):\n",
        "      for j in range(COLUMN_SIZE):\n",
        "        state = (i, j)\n",
        "        grid = gridworld.gridworld[state]\n",
        "        if grid[0] == 0:\n",
        "          old_action = grid[1]\n",
        "          new_action = None\n",
        "          best_value = float('-inf')\n",
        "\n",
        "          for action in ACTIONS:\n",
        "              v = 0\n",
        "              for k in range(ROW_SIZE):\n",
        "                for l in range(COLUMN_SIZE):\n",
        "                    next_state = (k, l)\n",
        "                    reward = rewards.get((state, action, next_state), 0)\n",
        "                    v += transition_probs.get((state, action, next_state), 0) * (reward + DISCOUNT_FACTOR * value_function[next_state])\n",
        "\n",
        "              if v > best_value:\n",
        "                best_value = v\n",
        "                new_action = action\n",
        "\n",
        "          grid[1] = new_action\n",
        "          if new_action != old_action:\n",
        "            is_policy_converged = False\n",
        "\n",
        "  if is_policy_converged:\n",
        "    break\n",
        "\n",
        "  print(f\"Iteration all: {it + 1}\")\n",
        "  it += 1"
      ],
      "metadata": {
        "colab": {
          "base_uri": "https://localhost:8080/"
        },
        "id": "PFuNWMhtUBM4",
        "outputId": "81fe4976-0683-443f-dc2a-c07fa23e97df"
      },
      "execution_count": 14,
      "outputs": [
        {
          "output_type": "stream",
          "name": "stdout",
          "text": [
            "Iteration: 1, Error: 1.45\n",
            "Iteration: 2, Error: 0.585\n",
            "Iteration: 3, Error: 0.1755\n",
            "Iteration: 4, Error: 0.044550000000000034\n",
            "Iteration: 5, Error: 0.007020000000000026\n",
            "Iteration: 6, Error: 0.0021060000000000523\n",
            "Iteration: 7, Error: 0.00018954000000004356\n",
            "Iteration: 8, Error: 1.705859999995285e-05\n",
            "Iteration all: 1\n",
            "Iteration: 1, Error: 1.5352739999863196e-06\n"
          ]
        }
      ]
    },
    {
      "cell_type": "code",
      "source": [
        "def print_value_function(value_function):\n",
        "  values = np.zeros((ROW_SIZE, COLUMN_SIZE))\n",
        "  for key, value in value_function.items():\n",
        "    i, j = key\n",
        "    values[i, j] = value\n",
        "  for i in range(ROW_SIZE):\n",
        "      for j in range(COLUMN_SIZE):\n",
        "        print(f\"{values[i, j]:.2f}\" + \"\\t\", end=\"\")\n",
        "      print(\"\\n\")"
      ],
      "metadata": {
        "id": "4vgJxMd1XnQ4"
      },
      "execution_count": 11,
      "outputs": []
    },
    {
      "cell_type": "code",
      "source": [
        "gridworld.print_gridworld(ROW_SIZE, COLUMN_SIZE)"
      ],
      "metadata": {
        "colab": {
          "base_uri": "https://localhost:8080/"
        },
        "id": "87NUg0ql9tol",
        "outputId": "2ba85d4e-2b51-492d-b16d-395bd45fe0e6"
      },
      "execution_count": 12,
      "outputs": [
        {
          "output_type": "stream",
          "name": "stdout",
          "text": [
            "[  ]\t[  ]\t[  ]\t[  ]\t[  ]\t[  ]\t[  ]\t[  ]\t[  ]\t[  ]\t\n",
            "\n",
            "[  ]\t[-1]\t[  ]\t[  ]\t[  ]\t[  ]\t[  ]\t[  ]\t[  ]\t[  ]\t\n",
            "\n",
            "[  ]\t[  ]\t[  ]\t[  ]\t[xx]\t[  ]\t[  ]\t[  ]\t[  ]\t[  ]\t\n",
            "\n",
            "[  ]\t[  ]\t[  ]\t[+1]\t[  ]\t[  ]\t[  ]\t[-1]\t[  ]\t[  ]\t\n",
            "\n",
            "[  ]\t[  ]\t[  ]\t[  ]\t[xx]\t[  ]\t[  ]\t[  ]\t[  ]\t[  ]\t\n",
            "\n",
            "[  ]\t[  ]\t[  ]\t[-1]\t[-1]\t[  ]\t[  ]\t[-1]\t[  ]\t[  ]\t\n",
            "\n",
            "[  ]\t[  ]\t[  ]\t[  ]\t[  ]\t[  ]\t[  ]\t[  ]\t[  ]\t[  ]\t\n",
            "\n",
            "[  ]\t[  ]\t[  ]\t[  ]\t[  ]\t[  ]\t[  ]\t[  ]\t[  ]\t[  ]\t\n",
            "\n",
            "[  ]\t[  ]\t[  ]\t[  ]\t[  ]\t[  ]\t[  ]\t[  ]\t[  ]\t[  ]\t\n",
            "\n",
            "[  ]\t[  ]\t[-1]\t[-1]\t[  ]\t[  ]\t[  ]\t[  ]\t[  ]\t[  ]\t\n",
            "\n"
          ]
        }
      ]
    },
    {
      "cell_type": "code",
      "source": [
        "gridworld.print_policy(ROW_SIZE, COLUMN_SIZE)"
      ],
      "metadata": {
        "colab": {
          "base_uri": "https://localhost:8080/"
        },
        "id": "x8YOcIH8Y3t3",
        "outputId": "6de54e82-d14f-44fd-8957-40531bc40f31"
      },
      "execution_count": 15,
      "outputs": [
        {
          "output_type": "stream",
          "name": "stdout",
          "text": [
            "3\t3\t3\t2\t3\t2\t2\t1\t3\t1\t\n",
            "\n",
            "1\tX\t0\t0\t0\t0\t3\t3\t2\t0\t\n",
            "\n",
            "1\t3\t1\t2\tX\t1\t0\t0\t3\t0\t\n",
            "\n",
            "1\t3\t1\t2\t3\t2\t2\tX\t3\t0\t\n",
            "\n",
            "1\t3\t3\t2\tX\t0\t2\t3\t3\t1\t\n",
            "\n",
            "1\t2\t0\tX\tX\t0\t2\tX\t3\t0\t\n",
            "\n",
            "0\t2\t3\t3\t1\t1\t1\t1\t2\t0\t\n",
            "\n",
            "1\t1\t1\t3\t1\t2\t2\t1\t2\t0\t\n",
            "\n",
            "3\t2\t2\t3\t0\t0\t3\t0\t2\t0\t\n",
            "\n",
            "0\t0\tX\tX\t0\t3\t3\t0\t0\t0\t\n",
            "\n"
          ]
        }
      ]
    },
    {
      "cell_type": "code",
      "source": [
        "print_value_function(value_function)"
      ],
      "metadata": {
        "colab": {
          "base_uri": "https://localhost:8080/"
        },
        "id": "8gUFlFf_vcAW",
        "outputId": "9328dd34-d2c2-4b70-fbf0-b07a84109410"
      },
      "execution_count": 16,
      "outputs": [
        {
          "output_type": "stream",
          "name": "stdout",
          "text": [
            "0.54\t1.21\t0.70\t1.21\t0.95\t0.95\t0.95\t1.21\t1.50\t1.68\t\n",
            "\n",
            "0.39\t0.00\t0.91\t0.52\t0.95\t0.71\t0.91\t0.70\t0.91\t1.50\t\n",
            "\n",
            "0.19\t0.40\t0.65\t0.53\t0.00\t0.99\t0.70\t0.91\t1.00\t1.12\t\n",
            "\n",
            "0.62\t0.65\t0.66\t0.00\t1.49\t1.08\t0.74\t0.00\t0.80\t1.34\t\n",
            "\n",
            "0.95\t0.66\t0.70\t0.88\t0.00\t0.99\t0.72\t0.18\t0.80\t1.32\t\n",
            "\n",
            "0.95\t0.71\t0.66\t0.00\t0.00\t0.72\t0.66\t0.00\t0.99\t1.06\t\n",
            "\n",
            "0.95\t0.71\t0.91\t0.72\t0.97\t0.97\t0.72\t0.97\t0.72\t1.32\t\n",
            "\n",
            "1.04\t0.92\t0.71\t0.97\t0.97\t0.97\t0.97\t0.97\t0.97\t0.40\t\n",
            "\n",
            "1.23\t0.78\t0.92\t0.97\t0.97\t0.97\t0.97\t0.97\t0.97\t0.79\t\n",
            "\n",
            "1.55\t1.23\t0.00\t0.00\t1.29\t1.12\t0.39\t1.29\t0.62\t0.35\t\n",
            "\n"
          ]
        }
      ]
    },
    {
      "cell_type": "code",
      "source": [],
      "metadata": {
        "id": "9ca3f1RdG67U"
      },
      "execution_count": null,
      "outputs": []
    }
  ]
}