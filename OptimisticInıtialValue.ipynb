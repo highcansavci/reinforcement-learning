{
  "nbformat": 4,
  "nbformat_minor": 0,
  "metadata": {
    "colab": {
      "provenance": []
    },
    "kernelspec": {
      "name": "python3",
      "display_name": "Python 3"
    },
    "language_info": {
      "name": "python"
    }
  },
  "cells": [
    {
      "cell_type": "code",
      "execution_count": 11,
      "metadata": {
        "id": "VV5wwxkwkL5Z"
      },
      "outputs": [],
      "source": [
        "import matplotlib.pyplot as plt\n",
        "import numpy as np"
      ]
    },
    {
      "cell_type": "code",
      "source": [
        "NUM_TRIALS = 100000\n",
        "INITIAL_VALUE = 1000\n",
        "BANDIT_PROBS = [0.2, 0.4, 0.3, 0.1]"
      ],
      "metadata": {
        "id": "0sugF5hPkTc5"
      },
      "execution_count": 27,
      "outputs": []
    },
    {
      "cell_type": "code",
      "source": [
        "class Bandit:\n",
        "  def __init__(self, enum, win_rate):\n",
        "    self.enum = enum\n",
        "    self.win_rate = win_rate\n",
        "    self.win_rate_estimate = INITIAL_VALUE\n",
        "    self.number_of_samples = 0\n",
        "\n",
        "  def pull(self):\n",
        "    # draw a 1 with probability of win_rate\n",
        "    return np.random.random() < self.win_rate\n",
        "\n",
        "  def update(self, new_sample):\n",
        "    self.number_of_samples += 1\n",
        "    self.win_rate_estimate = self.win_rate_estimate + (new_sample - self.win_rate_estimate) / self.number_of_samples"
      ],
      "metadata": {
        "id": "_TCN6plzkskx"
      },
      "execution_count": 28,
      "outputs": []
    },
    {
      "cell_type": "code",
      "source": [
        "def optimistic_initial_values_experiment():\n",
        "  bandits = [Bandit(idx, p) for idx, p in enumerate(BANDIT_PROBS)]\n",
        "  rewards = np.zeros(NUM_TRIALS)\n",
        "\n",
        "  for i in range(NUM_TRIALS):\n",
        "      # use optimistic initial values method to select the next bandit\n",
        "      j = np.argmax([bandit.win_rate_estimate for bandit in bandits])\n",
        "\n",
        "      # pull the arm for the bandit with the largest sample\n",
        "      x = bandits[j].pull()\n",
        "      # update rewards log\n",
        "      rewards[i] = x\n",
        "      # update the distribution for the bandit whose arm we just pulled\n",
        "      bandits[j].update(x)\n",
        "\n",
        "  for bandit in bandits:\n",
        "      print(f\"Mean estimate of {bandit.enum}. bandit: {bandit.win_rate_estimate}\")\n",
        "\n",
        "  # print out the results\n",
        "  print(f\"Total reward earned: {rewards.sum()}\")\n",
        "  print(f\"Overall win rate: {rewards.sum() / NUM_TRIALS}\")\n",
        "\n",
        "  # plot the results\n",
        "  cumulative_rewards = np.cumsum(rewards)\n",
        "  win_rates = cumulative_rewards / (np.arange(NUM_TRIALS) + 1)\n",
        "  plt.plot(win_rates);\n",
        "  plt.plot(np.ones(NUM_TRIALS) * np.max(BANDIT_PROBS));"
      ],
      "metadata": {
        "id": "GQelLgnhmOBd"
      },
      "execution_count": 29,
      "outputs": []
    },
    {
      "cell_type": "code",
      "source": [
        "if __name__ == \"__main__\":\n",
        "  # If they go anywhere below that range they are going to stop being selected.\n",
        "  optimistic_initial_values_experiment()"
      ],
      "metadata": {
        "colab": {
          "base_uri": "https://localhost:8080/",
          "height": 541
        },
        "id": "1FxVayvRwwRp",
        "outputId": "1621a2fd-d5c4-4333-8341-22223a00e7fe"
      },
      "execution_count": 30,
      "outputs": [
        {
          "output_type": "stream",
          "name": "stdout",
          "text": [
            "Mean estimate of 0. bandit: 0.375\n",
            "Mean estimate of 1. bandit: 0.401870187018698\n",
            "Mean estimate of 2. bandit: 0.0\n",
            "Mean estimate of 3. bandit: 0.0\n",
            "Total reward earned: 40186.0\n",
            "Overall win rate: 0.40186\n"
          ]
        },
        {
          "output_type": "display_data",
          "data": {
            "text/plain": [
              "<Figure size 640x480 with 1 Axes>"
            ],
            "image/png": "[encoded data removed]"
          },
          "metadata": {}
        }
      ]
    },
    {
      "cell_type": "code",
      "source": [],
      "metadata": {
        "id": "oBhLm-1ZdnKc"
      },
      "execution_count": null,
      "outputs": []
    }
  ]
}