{
  "nbformat": 4,
  "nbformat_minor": 0,
  "metadata": {
    "colab": {
      "provenance": []
    },
    "kernelspec": {
      "name": "python3",
      "display_name": "Python 3"
    },
    "language_info": {
      "name": "python"
    }
  },
  "cells": [
    {
      "cell_type": "code",
      "source": [
        "import numpy as np\n",
        "import matplotlib.pyplot as plt\n",
        "from enum import IntEnum, Enum"
      ],
      "metadata": {
        "id": "A2BpANMrznNx"
      },
      "execution_count": 1,
      "outputs": []
    },
    {
      "cell_type": "code",
      "source": [
        "class Action(Enum):\n",
        "  UP = 'U'\n",
        "  DOWN = 'D'\n",
        "  LEFT = 'L'\n",
        "  RIGHT = 'R'\n",
        "\n",
        "  def __str__(self):\n",
        "    return str(self.value)"
      ],
      "metadata": {
        "id": "oaOGC8bt14LN"
      },
      "execution_count": 2,
      "outputs": []
    },
    {
      "cell_type": "code",
      "source": [
        "class State(IntEnum):\n",
        "  ACCESSIBLE_GRID = 0\n",
        "  INACCESSIBLE_GRID = -2\n",
        "  LOSER_GRID = -1\n",
        "  WINNER_GRID = 1"
      ],
      "metadata": {
        "id": "HovS_zDS5LvC"
      },
      "execution_count": 3,
      "outputs": []
    },
    {
      "cell_type": "code",
      "source": [
        "ACTION_SPACE = (Action.UP, Action.DOWN, Action.LEFT, Action.RIGHT)\n",
        "STATE_PROBS = [0.6, 0.35, 0.05] # prob of accessible grid, prob of inaccessible grid, prob of loser grid\n",
        "STATES = [State.ACCESSIBLE_GRID, State.INACCESSIBLE_GRID, State.LOSER_GRID, State.WINNER_GRID]\n",
        "UNKNOWN_POLICY = -2 # the policy is unknown for now, the policies are going to be determined after creating the gridworld\n",
        "ROW_SIZE = 10\n",
        "COLUMN_SIZE = 10\n",
        "THRESHOLD = 1e-3\n",
        "DISCOUNT_FACTOR = 0.9"
      ],
      "metadata": {
        "id": "i3egGS_kzpis"
      },
      "execution_count": 4,
      "outputs": []
    },
    {
      "cell_type": "code",
      "source": [
        "class Gridworld: # Environment\n",
        "  def __init__(self, rows, cols, start):\n",
        "    self.rows = rows\n",
        "    self.cols = cols\n",
        "    self.i = start[0]\n",
        "    self.j = start[1]\n",
        "\n",
        "  def set(self, rewards, actions):\n",
        "    # rewards should be a dict of: (i, j): r (row, col): reward\n",
        "    # actions should be a dict of: (i, j): A (row, col): list of possible actions\n",
        "    self.rewards = rewards\n",
        "    self.actions = actions\n",
        "\n",
        "  def set_rewards(self, rewards):\n",
        "    # rewards should be a dict of: (i, j): r (row, col): reward\n",
        "    self.rewards = rewards\n",
        "\n",
        "  def set_actions(self, actions):\n",
        "    # actions should be a dict of: (i, j): A (row, col): list of possible actions\n",
        "    self.actions = actions\n",
        "\n",
        "  def set_state(self, s):\n",
        "    self.i = s[0]\n",
        "    self.j = s[1]\n",
        "\n",
        "  def current_state(self):\n",
        "    return (self.i, self.j)\n",
        "\n",
        "  def is_terminal(self, state):\n",
        "    return state not in self.actions\n",
        "\n",
        "  def reset(self):\n",
        "    # put agent back in start position\n",
        "    self.i = ROW_SIZE - 1\n",
        "    self.j = 0\n",
        "    return (self.i, self.j)\n",
        "\n",
        "  def get_next_state(self, state, action):\n",
        "    # this answers: where would I end up if I perform action 'action' in state 's'?\n",
        "    i, j = state[0], state[1]\n",
        "\n",
        "    # if this action moves you somewhere else, then it will be in this dictionary\n",
        "    if action == Action.UP:\n",
        "      i -= 1\n",
        "    elif action == Action.DOWN:\n",
        "      i += 1\n",
        "    elif action == Action.RIGHT:\n",
        "      j += 1\n",
        "    elif action == Action.LEFT:\n",
        "      j -= 1\n",
        "\n",
        "    return i, j\n",
        "\n",
        "  def move(self, action):\n",
        "    # check if legal move first\n",
        "    if action in self.actions[(self.i, self.j)]:\n",
        "      if action == Action.UP:\n",
        "        self.i -= 1\n",
        "      elif action == Action.DOWN:\n",
        "        self.i += 1\n",
        "      elif action == Action.RIGHT:\n",
        "        self.j += 1\n",
        "      elif action == Action.LEFT:\n",
        "        self.j -= 1\n",
        "    # return a reward (if any)\n",
        "    return self.rewards.get((self.i, self.j), 0)\n",
        "\n",
        "  def undo_move(self, action):\n",
        "    # these are the opposite of what U/D/L/R should normally do\n",
        "    if action == Action.UP:\n",
        "      self.i += 1\n",
        "    elif action == Action.DOWN:\n",
        "      self.i -= 1\n",
        "    elif action == Action.RIGHT:\n",
        "      self.j -= 1\n",
        "    elif action == Action.LEFT:\n",
        "      self.j += 1\n",
        "    # raise an exception if we arrive somewhere we shouldn't be\n",
        "    # should never happen\n",
        "    assert(self.current_state() in self.all_states())\n",
        "\n",
        "  def game_over(self):\n",
        "    # returns true if game is over, else false\n",
        "    # true if we are in a state where no actions are possible\n",
        "    return (self.i, self.j) not in self.actions\n",
        "\n",
        "  def all_states(self):\n",
        "    # possibly buggy but simple way to get all states\n",
        "    # either a position that has possible next actions\n",
        "    # or a position that yields a reward\n",
        "    return set(self.actions.keys()) | set(self.rewards.keys())"
      ],
      "metadata": {
        "id": "7fMc7cCCubT9"
      },
      "execution_count": 5,
      "outputs": []
    },
    {
      "cell_type": "code",
      "source": [
        "def create_gridworld():\n",
        "  # define a grid that describes the reward for arriving at each state\n",
        "  # and possible actions at each state\n",
        "  gridworld = Gridworld(ROW_SIZE, COLUMN_SIZE, (ROW_SIZE, 0))\n",
        "\n",
        "  rewards = {}\n",
        "  actions = {}\n",
        "  total_number_of_grids = ROW_SIZE * COLUMN_SIZE\n",
        "  number_of_accessible_grid = int(total_number_of_grids * STATE_PROBS[State.ACCESSIBLE_GRID])\n",
        "  number_of_inaccessible_grid = int(total_number_of_grids * STATE_PROBS[State.INACCESSIBLE_GRID])\n",
        "  # We subtract the number of winner grid which is 1.\n",
        "  number_of_loser_grid = total_number_of_grids - number_of_accessible_grid - number_of_inaccessible_grid - 1\n",
        "\n",
        "  # populate the accessible grid\n",
        "  num_grid = 0\n",
        "  while num_grid < number_of_accessible_grid:\n",
        "    i = np.random.choice(ROW_SIZE)\n",
        "    j = np.random.choice(COLUMN_SIZE)\n",
        "    state = (i, j)\n",
        "    if state not in actions.keys():\n",
        "      num_grid += 1\n",
        "      actions[state] = None\n",
        "\n",
        "  # populate the negative reward grid\n",
        "  num_grid = 0\n",
        "  while num_grid < number_of_loser_grid:\n",
        "    i = np.random.choice(ROW_SIZE)\n",
        "    j = np.random.choice(COLUMN_SIZE)\n",
        "    state = (i, j)\n",
        "    if state not in actions.keys() and state not in rewards.keys():\n",
        "      num_grid += 1\n",
        "      rewards[state] = -10\n",
        "\n",
        "  # populate the positive reward grid\n",
        "  num_grid = 0\n",
        "  while num_grid < 1:\n",
        "    i = np.random.choice(ROW_SIZE)\n",
        "    j = np.random.choice(COLUMN_SIZE)\n",
        "    state = (i, j)\n",
        "    if state not in actions.keys() and state not in rewards.keys():\n",
        "      num_grid += 1\n",
        "      rewards[state] = 10\n",
        "\n",
        "  gridworld.set_rewards(rewards)\n",
        "  gridworld.set_actions(actions)\n",
        "\n",
        "  # populate action space\n",
        "  for key, _ in actions.items():\n",
        "    actions_ = []\n",
        "    for action in ACTION_SPACE:\n",
        "      next_state = gridworld.get_next_state(state=key, action=action)\n",
        "      if next_state in actions.keys() or next_state in rewards.keys():\n",
        "        actions_.append(action)\n",
        "    actions[key] = tuple(actions_)\n",
        "\n",
        "  gridworld.set_actions(actions)\n",
        "  return gridworld"
      ],
      "metadata": {
        "id": "b4RqTitHEJcW"
      },
      "execution_count": 6,
      "outputs": []
    },
    {
      "cell_type": "code",
      "source": [
        "def create_negative_gridworld(step_cost=-0.1):\n",
        "  # in this game we want to try to minimize the number of moves\n",
        "  # so we will penalize every move\n",
        "  gridworld = create_gridworld()\n",
        "  for key, _ in gridworld.actions:\n",
        "    gridworld.rewards[key] = step_cost\n",
        "  return gridworld"
      ],
      "metadata": {
        "id": "GOaITlboES0Y"
      },
      "execution_count": 7,
      "outputs": []
    },
    {
      "cell_type": "code",
      "source": [
        "def print_values(value_function, gridworld):\n",
        "  for i in range(gridworld.rows):\n",
        "    print(\"---------------------------\")\n",
        "    for j in range(gridworld.cols):\n",
        "      value = value_function.get((i,j), 0)\n",
        "      if value >= 0:\n",
        "        print(\" %.2f|\" % value, end=\"\")\n",
        "      else:\n",
        "        print(\"%.2f|\" % value, end=\"\") # -ve sign takes up an extra space\n",
        "    print(\"\")"
      ],
      "metadata": {
        "id": "KC9-4xGmE_Cy"
      },
      "execution_count": 8,
      "outputs": []
    },
    {
      "cell_type": "code",
      "source": [
        "def print_policy(policy, gridworld):\n",
        "  for i in range(gridworld.rows):\n",
        "    print(\"---------------------------\")\n",
        "    for j in range(gridworld.cols):\n",
        "      state = (i, j)\n",
        "      action = policy.get(state, ' ')\n",
        "      print(\"  %s  |\" % action, end=\"\")\n",
        "    print(\"\")"
      ],
      "metadata": {
        "id": "sKvENhEyE-4D"
      },
      "execution_count": 9,
      "outputs": []
    },
    {
      "cell_type": "code",
      "source": [
        "def play_game(gridworld, policy, max_steps=20):\n",
        "  # We use \"Exploring Starts\" method\n",
        "  start_states = list(gridworld.actions.keys())\n",
        "  start_state = start_states[np.random.choice(len(start_states))]\n",
        "  gridworld.set_state(start_state)\n",
        "\n",
        "  state = gridworld.current_state()\n",
        "  action = np.random.choice(ACTION_SPACE)\n",
        "\n",
        "  states = [state]\n",
        "  rewards = [0]\n",
        "  actions = [action]\n",
        "\n",
        "  steps = 0\n",
        "  while steps < max_steps:\n",
        "    reward = gridworld.move(action)\n",
        "    next_state = gridworld.current_state()\n",
        "\n",
        "    # update state and reward list\n",
        "    states.append(next_state)\n",
        "    rewards.append(reward)\n",
        "\n",
        "    if not gridworld.game_over():\n",
        "      action = policy[next_state]\n",
        "      actions.append(action)\n",
        "    else:\n",
        "      break\n",
        "\n",
        "    steps += 1\n",
        "    state = next_state\n",
        "\n",
        "  return states, actions, rewards"
      ],
      "metadata": {
        "id": "I7QDMdo0PD0M"
      },
      "execution_count": 16,
      "outputs": []
    },
    {
      "cell_type": "code",
      "source": [
        "def max_dict(dict_):\n",
        "  max_val = max(dict_.values())\n",
        "  max_keys = [key for key, val in dict_.items() if val == max_val]\n",
        "  return np.random.choice(max_keys), max_val"
      ],
      "metadata": {
        "id": "OUMQiFe4g_UO"
      },
      "execution_count": 17,
      "outputs": []
    },
    {
      "cell_type": "code",
      "source": [
        "if __name__ == '__main__':\n",
        "\n",
        "  gridworld = create_gridworld()\n",
        "\n",
        "  # state -> action\n",
        "  # we'll randomly choose an action and update as we learn\n",
        "  policy = {}\n",
        "  for state in gridworld.actions.keys():\n",
        "    policy[state] = np.random.choice(ACTION_SPACE)\n",
        "\n",
        "  q_table = {}\n",
        "  sample_counts = {}\n",
        "  states = gridworld.all_states()\n",
        "\n",
        "  for state in states:\n",
        "    if state in gridworld.actions:\n",
        "      q_table[state] = {}\n",
        "      sample_counts[state] = {}\n",
        "      for action in ACTION_SPACE:\n",
        "        q_table[state][action] = 0\n",
        "        sample_counts[state][action] = 0\n",
        "\n",
        "  deltas = []\n",
        "  for it in range(10000):\n",
        "    if it % 1000 == 0:\n",
        "      print(f\"Iteration: {it}\")\n",
        "\n",
        "    delta = 0\n",
        "    states, actions, rewards = play_game(gridworld, policy)\n",
        "    states_actions = list(zip(states, actions))\n",
        "\n",
        "    return_ = 0\n",
        "    rewards_ = rewards[1:]\n",
        "    for t in range(len(states) - 2, -1, -1):\n",
        "      reward = rewards[t + 1]\n",
        "      return_ = reward + DISCOUNT_FACTOR * return_\n",
        "      state = states[t]\n",
        "      action = actions[t]\n",
        "\n",
        "      # first-visit MC\n",
        "      if (state, action) not in states_actions[:t]:\n",
        "        old_q_value = q_table[state][action]\n",
        "        sample_counts[state][action] += 1\n",
        "        lr = 1 / sample_counts[state][action]\n",
        "        q_table[state][action] = old_q_value + lr * (return_ - old_q_value)\n",
        "\n",
        "        # update policy\n",
        "        policy[state] = max_dict(q_table[state])[0]\n",
        "\n",
        "        # update delta\n",
        "        delta = max(delta, np.abs(q_table[state][action] - old_q_value))\n",
        "\n",
        "    deltas.append(delta)\n",
        "\n",
        "  plt.plot(deltas)\n",
        "  plt.show();\n",
        "  # once we're done, print the final policy and values\n",
        "  print(\"policy:\")\n",
        "  print_policy(policy, gridworld)\n",
        "  print()\n",
        "  value_function_mc = {}\n",
        "  for state, q_values in q_table.items():\n",
        "    value_function_mc[state] = max_dict(q_table[state])[1]\n",
        "  print(\"values MC:\")\n",
        "  print_values(value_function_mc, gridworld)\n",
        "  print()\n",
        ""
      ],
      "metadata": {
        "colab": {
          "base_uri": "https://localhost:8080/",
          "height": 1000
        },
        "id": "fhZXEhZYufUK",
        "outputId": "587cee88-a0e1-4739-af82-ea2aab3bf8c2"
      },
      "execution_count": 19,
      "outputs": [
        {
          "output_type": "stream",
          "name": "stdout",
          "text": [
            "Iteration: 0\n",
            "Iteration: 1000\n",
            "Iteration: 2000\n",
            "Iteration: 3000\n",
            "Iteration: 4000\n",
            "Iteration: 5000\n",
            "Iteration: 6000\n",
            "Iteration: 7000\n",
            "Iteration: 8000\n",
            "Iteration: 9000\n"
          ]
        },
        {
          "output_type": "display_data",
          "data": {
            "text/plain": [
              "<Figure size 640x480 with 1 Axes>"
            ],
            "image/png": "[encoded data removed]"
          },
          "metadata": {}
        },
        {
          "output_type": "stream",
          "name": "stdout",
          "text": [
            "policy:\n",
            "---------------------------\n",
            "     |     |     |  D  |     |     |  R  |     |     |  D  |\n",
            "---------------------------\n",
            "  D  |  L  |     |     |  R  |  R  |  U  |     |  R  |  D  |\n",
            "---------------------------\n",
            "  D  |  L  |     |     |  R  |  R  |  U  |     |     |  D  |\n",
            "---------------------------\n",
            "  D  |     |  R  |  R  |  R  |  U  |  U  |  L  |  L  |  L  |\n",
            "---------------------------\n",
            "  R  |  D  |     |  U  |     |  U  |  U  |  U  |     |  U  |\n",
            "---------------------------\n",
            "     |  R  |  R  |  U  |     |     |     |     |     |  U  |\n",
            "---------------------------\n",
            "     |  U  |  R  |  U  |  L  |  L  |     |     |  R  |  U  |\n",
            "---------------------------\n",
            "  D  |     |  U  |     |     |  D  |     |  D  |     |     |\n",
            "---------------------------\n",
            "     |  R  |  U  |  L  |  L  |  L  |     |  U  |  L  |  L  |\n",
            "---------------------------\n",
            "     |  U  |     |  U  |     |  U  |  L  |     |     |  D  |\n",
            "\n",
            "values MC:\n",
            "---------------------------\n",
            " 0.00| 0.00| 0.00| 0.00| 0.00| 0.00| 10.00| 0.00| 0.00| 3.85|\n",
            "---------------------------\n",
            " 1.98| 1.77| 0.00| 0.00| 7.22| 8.08| 9.00| 0.00| 3.79| 4.25|\n",
            "---------------------------\n",
            " 2.22| 1.84| 0.00| 0.00| 6.56| 7.29| 8.10| 0.00| 0.00| 4.72|\n",
            "---------------------------\n",
            " 2.47| 0.00| 4.75| 5.31| 5.90| 6.56| 7.29| 6.52| 5.86| 5.28|\n",
            "---------------------------\n",
            " 2.79| 3.09| 0.00| 4.78| 0.00| 5.90| 6.52| 5.85| 0.00| 4.76|\n",
            "---------------------------\n",
            " 0.00| 3.46| 3.84| 4.30| 0.00| 0.00| 0.00| 0.00| 0.00| 4.30|\n",
            "---------------------------\n",
            " 0.00| 3.01| 3.44| 3.86| 3.28| 2.27| 0.00| 0.00| 3.47| 3.85|\n",
            "---------------------------\n",
            " 0.00| 0.00| 3.11| 0.00| 0.00| 1.76| 0.00| 0.00| 0.00| 0.00|\n",
            "---------------------------\n",
            " 0.00| 2.45| 2.80| 2.50| 2.26| 2.00| 0.00| 0.00| 0.00| 0.00|\n",
            "---------------------------\n",
            " 0.00| 2.15| 0.00| 2.08| 0.00| 1.76| 1.59| 0.00| 0.00| 0.00|\n",
            "\n"
          ]
        }
      ]
    },
    {
      "cell_type": "code",
      "source": [],
      "metadata": {
        "id": "lUUL2Autp7q8"
      },
      "execution_count": null,
      "outputs": []
    }
  ]
}