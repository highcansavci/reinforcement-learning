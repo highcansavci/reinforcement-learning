{
  "nbformat": 4,
  "nbformat_minor": 0,
  "metadata": {
    "colab": {
      "provenance": []
    },
    "kernelspec": {
      "name": "python3",
      "display_name": "Python 3"
    },
    "language_info": {
      "name": "python"
    }
  },
  "cells": [
    {
      "cell_type": "code",
      "execution_count": 16,
      "metadata": {
        "id": "VV5wwxkwkL5Z"
      },
      "outputs": [],
      "source": [
        "import matplotlib.pyplot as plt\n",
        "import numpy as np"
      ]
    },
    {
      "cell_type": "code",
      "source": [
        "NUM_TRIALS = 100000\n",
        "EPSILON = 0.1\n",
        "BANDIT_PROBS = [0.2, 0.4, 0.3, 0.1]\n",
        "K = 0.0001\n",
        "MIN_EPSILON = 0.0\n",
        "LAMBDA = 0.99\n",
        "LOG_A, LOG_B, LOG_C = 2, 4, 1"
      ],
      "metadata": {
        "id": "0sugF5hPkTc5"
      },
      "execution_count": 48,
      "outputs": []
    },
    {
      "cell_type": "code",
      "source": [
        "class Bandit:\n",
        "  def __init__(self, enum, win_rate):\n",
        "    self.enum = enum\n",
        "    self.win_rate = win_rate\n",
        "    self.win_rate_estimate = 0.0\n",
        "    self.number_of_samples = 0\n",
        "\n",
        "  def pull(self):\n",
        "    # draw a 1 with probability of win_rate\n",
        "    return np.random.random() < self.win_rate\n",
        "\n",
        "  def update(self, new_sample):\n",
        "    self.number_of_samples += 1\n",
        "    self.win_rate_estimate = self.win_rate_estimate + (new_sample - self.win_rate_estimate) / self.number_of_samples"
      ],
      "metadata": {
        "id": "_TCN6plzkskx"
      },
      "execution_count": 49,
      "outputs": []
    },
    {
      "cell_type": "code",
      "source": [
        "from enum import Enum\n",
        "\n",
        "class EpsilonStrategy(Enum):\n",
        "    CONSTANT = 0\n",
        "    DECAY_DENOM = 1\n",
        "    DECAY_OUTER_BOUND = 2\n",
        "    DECAY_EXPONENTIAL = 3\n",
        "    DECAY_LOG = 4\n",
        "\n",
        "def get_epsilon(strategy: EpsilonStrategy, time):\n",
        "    if strategy == EpsilonStrategy.CONSTANT:\n",
        "      return EPSILON\n",
        "    elif strategy == EpsilonStrategy.DECAY_DENOM:\n",
        "      return 1 / time\n",
        "    elif strategy == EpsilonStrategy.DECAY_OUTER_BOUND:\n",
        "      return max(EPSILON - K * time, MIN_EPSILON)\n",
        "    elif strategy == EpsilonStrategy.DECAY_EXPONENTIAL:\n",
        "      return EPSILON * np.power(LAMBDA, time)\n",
        "    elif strategy == EpsilonStrategy.DECAY_LOG:\n",
        "      return LOG_A / np.log(LOG_B * time + LOG_C)"
      ],
      "metadata": {
        "id": "pHA-8IDX6jW8"
      },
      "execution_count": 50,
      "outputs": []
    },
    {
      "cell_type": "code",
      "source": [
        "def epsilon_greedy_experiment():\n",
        "  bandits = [Bandit(idx, p) for idx, p in enumerate(BANDIT_PROBS)]\n",
        "  rewards = np.zeros(NUM_TRIALS)\n",
        "  num_times_explored = 0\n",
        "  num_times_exploited = 0\n",
        "  num_optimal = 0\n",
        "  optimal_j = np.argmax([bandit.win_rate for bandit in bandits])\n",
        "  print(f\"Optimal bandit: {optimal_j}\")\n",
        "\n",
        "  for i in range(NUM_TRIALS):\n",
        "      # use epsilon greedy to select the next bandit\n",
        "      if np.random.random() < get_epsilon(EpsilonStrategy.DECAY_OUTER_BOUND, i + 1):\n",
        "        num_times_explored += 1\n",
        "        j = np.random.choice(a=len(BANDIT_PROBS))\n",
        "      else:\n",
        "        num_times_exploited += 1\n",
        "        j = np.argmax([bandit.win_rate_estimate for bandit in bandits])\n",
        "\n",
        "      if j == optimal_j:\n",
        "        num_optimal += 1\n",
        "\n",
        "      # pull the arm for the bandit with the largest sample\n",
        "      x = bandits[j].pull()\n",
        "      # update rewards log\n",
        "      rewards[i] = x\n",
        "      # update the distribution for the bandit whose arm we just pulled\n",
        "      bandits[j].update(x)\n",
        "\n",
        "  for bandit in bandits:\n",
        "      print(f\"Mean estimate of {bandit.enum}. bandit: {bandit.win_rate_estimate}\")\n",
        "\n",
        "  # print out the results\n",
        "  print(f\"Total reward earned: {rewards.sum()}\")\n",
        "  print(f\"Overall win rate: {rewards.sum() / NUM_TRIALS}\")\n",
        "  print(f\"Number of times explored: {num_times_explored}\")\n",
        "  print(f\"Number of times exploited: {num_times_exploited}\")\n",
        "  print(f\"Number of times selected optimal bandit: {num_optimal}\")\n",
        "\n",
        "  # plot the results\n",
        "  cumulative_rewards = np.cumsum(rewards)\n",
        "  win_rates = cumulative_rewards / (np.arange(NUM_TRIALS) + 1)\n",
        "  plt.plot(win_rates);\n",
        "  plt.plot(np.ones(NUM_TRIALS) * np.max(BANDIT_PROBS));"
      ],
      "metadata": {
        "id": "GQelLgnhmOBd"
      },
      "execution_count": 51,
      "outputs": []
    },
    {
      "cell_type": "code",
      "source": [
        "if __name__ == \"__main__\":\n",
        "  epsilon_greedy_experiment()"
      ],
      "metadata": {
        "colab": {
          "base_uri": "https://localhost:8080/",
          "height": 615
        },
        "id": "1FxVayvRwwRp",
        "outputId": "5e3e9d41-2380-4831-cff0-29c77c95df42"
      },
      "execution_count": 53,
      "outputs": [
        {
          "output_type": "stream",
          "name": "stdout",
          "text": [
            "Optimal bandit: 1\n",
            "Mean estimate of 0. bandit: 0.20710059171597636\n",
            "Mean estimate of 1. bandit: 0.11764705882352944\n",
            "Mean estimate of 2. bandit: 0.2989589491297829\n",
            "Mean estimate of 3. bandit: 0.09090909090909091\n",
            "Total reward earned: 29875.0\n",
            "Overall win rate: 0.29875\n",
            "Number of times explored: 55\n",
            "Number of times exploited: 99945\n",
            "Number of times selected optimal bandit: 17\n"
          ]
        },
        {
          "output_type": "display_data",
          "data": {
            "text/plain": [
              "<Figure size 640x480 with 1 Axes>"
            ],
            "image/png": "[encoded data removed]"
          },
          "metadata": {}
        }
      ]
    },
    {
      "cell_type": "code",
      "source": [],
      "metadata": {
        "id": "C1_EA6BeycPm"
      },
      "execution_count": null,
      "outputs": []
    }
  ]
}