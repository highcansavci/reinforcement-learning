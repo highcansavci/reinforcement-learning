{
  "nbformat": 4,
  "nbformat_minor": 0,
  "metadata": {
    "colab": {
      "provenance": []
    },
    "kernelspec": {
      "name": "python3",
      "display_name": "Python 3"
    },
    "language_info": {
      "name": "python"
    }
  },
  "cells": [
    {
      "cell_type": "code",
      "execution_count": 2,
      "metadata": {
        "id": "VV5wwxkwkL5Z"
      },
      "outputs": [],
      "source": [
        "import matplotlib.pyplot as plt\n",
        "import numpy as np"
      ]
    },
    {
      "cell_type": "code",
      "source": [
        "NUM_TRIALS = 1000000\n",
        "BANDIT_PROBS = [0.2, 0.4, 0.3, 0.1]"
      ],
      "metadata": {
        "id": "0sugF5hPkTc5"
      },
      "execution_count": 13,
      "outputs": []
    },
    {
      "cell_type": "code",
      "source": [
        "class Bandit:\n",
        "  def __init__(self, win_rate):\n",
        "    self.win_rate = win_rate\n",
        "    self.win_rate_estimate = 0\n",
        "    self.number_of_samples = 0\n",
        "\n",
        "  def pull(self):\n",
        "    # draw a 1 with probability of win_rate\n",
        "    return np.random.random() < self.win_rate\n",
        "\n",
        "  def update(self, new_sample):\n",
        "    self.number_of_samples += 1\n",
        "    self.win_rate_estimate = self.win_rate_estimate + (new_sample - self.win_rate_estimate) / self.number_of_samples"
      ],
      "metadata": {
        "id": "_TCN6plzkskx"
      },
      "execution_count": 4,
      "outputs": []
    },
    {
      "cell_type": "code",
      "source": [
        "def ucb(mean, total_size, bandit_size):\n",
        "  return mean + np.power(2 * np.log(total_size) / bandit_size, 1 / 2)"
      ],
      "metadata": {
        "id": "sz07gk29raF5"
      },
      "execution_count": 10,
      "outputs": []
    },
    {
      "cell_type": "code",
      "source": [
        "def ucb_experiment():\n",
        "  bandits = [Bandit(p) for p in BANDIT_PROBS]\n",
        "  rewards = np.zeros(NUM_TRIALS)\n",
        "  total_plays = 0\n",
        "\n",
        "  # Initialization: play all bandits once\n",
        "  for i in range(len(bandits)):\n",
        "      # pull the arm for the bandit with the largest sample\n",
        "      x = bandits[i].pull()\n",
        "      # update total plays\n",
        "      total_plays += 1\n",
        "      # update the distribution for the bandit whose arm we just pulled\n",
        "      bandits[i].update(x)\n",
        "\n",
        "  for i in range(NUM_TRIALS):\n",
        "      # use optimistic initial values method to select the next bandit\n",
        "      j = np.argmax([ucb(bandit.win_rate_estimate, total_plays, bandit.number_of_samples) for bandit in bandits])\n",
        "\n",
        "      # pull the arm for the bandit with the largest sample\n",
        "      x = bandits[j].pull()\n",
        "      # update total plays\n",
        "      total_plays += 1\n",
        "      # update the distribution for the bandit whose arm we just pulled\n",
        "      bandits[j].update(x)\n",
        "\n",
        "      # update rewards log\n",
        "      rewards[i] = x\n",
        "\n",
        "  # plot the results\n",
        "  cumulative_rewards = np.cumsum(rewards)\n",
        "  win_rates = cumulative_rewards / (np.arange(NUM_TRIALS) + 1)\n",
        "  plt.plot(win_rates);\n",
        "  plt.plot(np.ones(NUM_TRIALS) * np.max(BANDIT_PROBS));"
      ],
      "metadata": {
        "id": "GQelLgnhmOBd"
      },
      "execution_count": 14,
      "outputs": []
    },
    {
      "cell_type": "code",
      "source": [
        "if __name__ == \"__main__\":\n",
        "  # If they go anywhere below that range they are going to stop being selected.\n",
        "  ucb_experiment()"
      ],
      "metadata": {
        "colab": {
          "base_uri": "https://localhost:8080/",
          "height": 448
        },
        "id": "1FxVayvRwwRp",
        "outputId": "550fc033-fb56-4890-fe5c-3aef610dfac8"
      },
      "execution_count": 15,
      "outputs": [
        {
          "output_type": "display_data",
          "data": {
            "text/plain": [
              "<Figure size 640x480 with 1 Axes>"
            ],
            "image/png": "[encoded data removed]"
          },
          "metadata": {}
        }
      ]
    },
    {
      "cell_type": "code",
      "source": [],
      "metadata": {
        "id": "rzrRRdu4tYg9"
      },
      "execution_count": null,
      "outputs": []
    }
  ]
}