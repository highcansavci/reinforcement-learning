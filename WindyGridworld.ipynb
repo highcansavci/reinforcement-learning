{
  "nbformat": 4,
  "nbformat_minor": 0,
  "metadata": {
    "colab": {
      "provenance": []
    },
    "kernelspec": {
      "name": "python3",
      "display_name": "Python 3"
    },
    "language_info": {
      "name": "python"
    }
  },
  "cells": [
    {
      "cell_type": "code",
      "source": [
        "import numpy as np\n",
        "import matplotlib.pyplot as plt\n",
        "from enum import IntEnum"
      ],
      "metadata": {
        "id": "6IJI9HGEobNn"
      },
      "execution_count": 15,
      "outputs": []
    },
    {
      "cell_type": "code",
      "source": [
        "class Action(IntEnum):\n",
        "  UP = 0\n",
        "  DOWN = 1\n",
        "  LEFT = 2\n",
        "  RIGHT = 3"
      ],
      "metadata": {
        "id": "EHixsbrCobNt"
      },
      "execution_count": 16,
      "outputs": []
    },
    {
      "cell_type": "code",
      "source": [
        "class State(IntEnum):\n",
        "  ACCESSIBLE_GRID = 0\n",
        "  INACCESSIBLE_GRID = -2\n",
        "  LOSER_GRID = -1\n",
        "  WINNER_GRID = 1"
      ],
      "metadata": {
        "id": "rfcrmjkIobNu"
      },
      "execution_count": 17,
      "outputs": []
    },
    {
      "cell_type": "code",
      "source": [
        "STATE_PROBS = [0.7, 0.2, 0.1] # prob of accessible grid, prob of inaccessible grid, prob of loser grid\n",
        "STATES = [State.ACCESSIBLE_GRID, State.INACCESSIBLE_GRID, State.LOSER_GRID, State.WINNER_GRID]\n",
        "UNKNOWN_POLICY = -2 # the policy is unknown for now, the policies are going to be determined after creating the gridworld\n",
        "ACTIONS = [Action.UP, Action.DOWN, Action.LEFT, Action.RIGHT]\n",
        "ROW_SIZE = 10\n",
        "COLUMN_SIZE = 10\n",
        "THRESHOLD = 1e-3\n",
        "DISCOUNT_FACTOR = 0.9"
      ],
      "metadata": {
        "id": "Zpje7GJnobNw"
      },
      "execution_count": 18,
      "outputs": []
    },
    {
      "cell_type": "code",
      "execution_count": 19,
      "metadata": {
        "id": "4okMc3gQobNx"
      },
      "outputs": [],
      "source": [
        "class WindyGridworld:\n",
        "  def __init__(self, row_size, column_size, start_position):\n",
        "    assert(row_size * column_size >= 10) # creating a complex gridworld\n",
        "    self.gridworld, self.winner_position = self.create_gridworld(row_size, column_size)\n",
        "    row, column = start_position\n",
        "    assert(self.gridworld[row, column][0] == 0) # the starting position should be accessible and should not cause the termination of the game\n",
        "    self.start_position = start_position\n",
        "    self.position = start_position\n",
        "    # print(self.gridworld) # For debug purposes\n",
        "    self.available_moves = self.check_available_moves(row_size, column_size)\n",
        "    # print(self.available_moves) # For debug purposes\n",
        "    self.create_policy(row_size, column_size)\n",
        "    print(self.gridworld) # For debug purposes\n",
        "\n",
        "  def create_gridworld(self, row_size, column_size):\n",
        "    out = np.empty((row_size, column_size), dtype=object)\n",
        "    total_number_of_grids = row_size * column_size\n",
        "    number_of_accessible_grid = int(total_number_of_grids * STATE_PROBS[State.ACCESSIBLE_GRID])\n",
        "    number_of_inaccessible_grid = int(total_number_of_grids * STATE_PROBS[State.INACCESSIBLE_GRID])\n",
        "    # We subtract the number of winner grid which is 1.\n",
        "    number_of_loser_grid = total_number_of_grids - number_of_accessible_grid - number_of_inaccessible_grid - 1\n",
        "    # create a distribution of states\n",
        "    new_state_probs = np.array([number_of_accessible_grid, number_of_inaccessible_grid, number_of_loser_grid]) / (total_number_of_grids - 1)\n",
        "    # determine the winner state for policy creation\n",
        "    winner_position_row = np.random.choice(row_size - 1)\n",
        "    winner_position_column = np.random.choice(column_size - 1)\n",
        "    state = np.random.choice(STATES[:-1], p=new_state_probs, size=(ROW_SIZE, COLUMN_SIZE))\n",
        "    out[winner_position_row, winner_position_column] = [1, UNKNOWN_POLICY, UNKNOWN_POLICY]\n",
        "    for i in range(row_size):\n",
        "      for j in range(column_size):\n",
        "        if i == winner_position_row and j == winner_position_column:\n",
        "          continue\n",
        "        out[i, j] = [state[i, j], UNKNOWN_POLICY, UNKNOWN_POLICY]\n",
        "    return out, (winner_position_row, winner_position_column)\n",
        "\n",
        "  def game_over(self):\n",
        "    row, column = self.starting_position\n",
        "    return self.gridworld[row, column][0] % 10 == 0 # whether we lost or won the game terminates\n",
        "\n",
        "  # helper method which doesn't take extreme cases into consideration\n",
        "  def move_calculate_position(self, position, action):\n",
        "    if action == Action.UP:\n",
        "      return [position[0] - 1, position[1]]\n",
        "    elif action == Action.DOWN:\n",
        "      return [position[0] + 1, position[1]]\n",
        "    elif action == Action.LEFT:\n",
        "      return [position[0], position[1] - 1]\n",
        "    elif action == Action.RIGHT:\n",
        "      return [position[0], position[1] + 1]\n",
        "\n",
        "  def move_simulation(self, position, action):\n",
        "    # check if we step into the inaccessible grid\n",
        "    row, column = position\n",
        "    can_move = self.gridworld[row, column][0] != -2\n",
        "    not_going_to_move_up_or_down = (row == 0 and action == Action.UP) or (row == ROW_SIZE - 1 and action == Action.DOWN)\n",
        "    not_going_to_move_left_or_right = (column == 0 and action == Action.LEFT) or (column == COLUMN_SIZE - 1 and action == Action.RIGHT)\n",
        "    can_move = can_move and not(not_going_to_move_up_or_down or not_going_to_move_left_or_right)\n",
        "    if can_move:\n",
        "      row, column = self.move_calculate_position(position, action)\n",
        "      # check if we step into the inaccessible grid\n",
        "      can_move = can_move and self.gridworld[row, column][0] != -2\n",
        "    return can_move, [row, column] if can_move else position\n",
        "\n",
        "  def create_transition_probs(self, position, action):\n",
        "    # check if we step into the invalid grid\n",
        "    row, column = position\n",
        "    can_move = self.gridworld[row, column][0] == 0\n",
        "    not_going_to_move_up_or_down = (row == 0 and action == Action.UP) or (row == ROW_SIZE - 1 and action == Action.DOWN)\n",
        "    not_going_to_move_left_or_right = (column == 0 and action == Action.LEFT) or (column == COLUMN_SIZE - 1 and action == Action.RIGHT)\n",
        "    can_move = can_move and not(not_going_to_move_up_or_down or not_going_to_move_left_or_right)\n",
        "    if can_move:\n",
        "      row, column = self.move_calculate_position(position, action)\n",
        "      # check if we step into the invalid grid\n",
        "      can_move = can_move and self.gridworld[row, column][0] == 0\n",
        "    return can_move, (row, column) if can_move else position\n",
        "\n",
        "  def move(self, action):\n",
        "    self.position = list(self.move_simulation(self.position, action))\n",
        "\n",
        "  def check_available_moves(self, row_size, column_size):\n",
        "    moves = np.empty((row_size, column_size), dtype=object)\n",
        "    for i in range(row_size):\n",
        "      for j in range(column_size):\n",
        "        move_list = []\n",
        "        if self.gridworld[i, j][0] != 0:\n",
        "          moves[i, j] = move_list\n",
        "          continue # non-playable grid\n",
        "        if self.create_transition_probs([i, j], Action.DOWN)[0]:\n",
        "          move_list.append(Action.DOWN)\n",
        "        if self.create_transition_probs([i, j], Action.UP)[0]:\n",
        "          move_list.append(Action.UP)\n",
        "        if self.create_transition_probs([i, j], Action.LEFT)[0]:\n",
        "          move_list.append(Action.LEFT)\n",
        "        if self.create_transition_probs([i, j], Action.RIGHT)[0]:\n",
        "          move_list.append(Action.RIGHT)\n",
        "        moves[i, j] = move_list\n",
        "    return moves\n",
        "\n",
        "  def create_policy(self, row_size, column_size):\n",
        "    winner_row, winner_column = self.winner_position\n",
        "    for i in range(row_size):\n",
        "      for j in range(column_size):\n",
        "        action_up_down = -1\n",
        "        action_left_right = -1\n",
        "        if self.gridworld[i, j][0] < 0:\n",
        "          continue # non-playable grid\n",
        "        elif winner_row > i and self.move_simulation([i, j], Action.DOWN)[0]:\n",
        "          action_up_down = Action.DOWN\n",
        "        elif winner_row < i and self.move_simulation([i, j], Action.UP)[0]:\n",
        "          action_up_down = Action.UP\n",
        "        if winner_column < j and self.move_simulation([i, j], Action.LEFT)[0]:\n",
        "          action_left_right = Action.LEFT\n",
        "        elif winner_column > j and self.move_simulation([i, j], Action.RIGHT)[0]:\n",
        "          action_left_right = Action.RIGHT\n",
        "        self.gridworld[i, j][1] = action_up_down\n",
        "        self.gridworld[i, j][2] = action_left_right"
      ]
    },
    {
      "cell_type": "code",
      "source": [
        "gridworld = WindyGridworld(ROW_SIZE, COLUMN_SIZE, [ROW_SIZE - 1, 0]);"
      ],
      "metadata": {
        "colab": {
          "base_uri": "https://localhost:8080/"
        },
        "id": "kMO0CVaQGO_O",
        "outputId": "8d5d1694-edb7-4c73-dc7f-1194a4d84032"
      },
      "execution_count": 20,
      "outputs": [
        {
          "output_type": "stream",
          "name": "stdout",
          "text": [
            "[[list([0, <Action.DOWN: 1>, <Action.RIGHT: 3>])\n",
            "  list([0, -1, <Action.RIGHT: 3>]) list([0, <Action.DOWN: 1>, -1])\n",
            "  list([0, <Action.DOWN: 1>, <Action.LEFT: 2>]) list([-1, -2, -2])\n",
            "  list([0, <Action.DOWN: 1>, <Action.LEFT: 2>]) list([-2, -2, -2])\n",
            "  list([0, <Action.DOWN: 1>, -1])\n",
            "  list([0, <Action.DOWN: 1>, <Action.LEFT: 2>])\n",
            "  list([0, <Action.DOWN: 1>, <Action.LEFT: 2>])]\n",
            " [list([0, -1, -1]) list([-2, -2, -2]) list([1, -1, -1])\n",
            "  list([0, -1, <Action.LEFT: 2>]) list([0, -1, <Action.LEFT: 2>])\n",
            "  list([0, -1, <Action.LEFT: 2>]) list([0, -1, <Action.LEFT: 2>])\n",
            "  list([0, -1, <Action.LEFT: 2>]) list([0, -1, <Action.LEFT: 2>])\n",
            "  list([0, -1, <Action.LEFT: 2>])]\n",
            " [list([0, <Action.UP: 0>, <Action.RIGHT: 3>])\n",
            "  list([0, -1, <Action.RIGHT: 3>]) list([0, <Action.UP: 0>, -1])\n",
            "  list([-2, -2, -2]) list([0, <Action.UP: 0>, -1])\n",
            "  list([0, <Action.UP: 0>, <Action.LEFT: 2>])\n",
            "  list([0, <Action.UP: 0>, <Action.LEFT: 2>])\n",
            "  list([0, <Action.UP: 0>, <Action.LEFT: 2>])\n",
            "  list([0, <Action.UP: 0>, <Action.LEFT: 2>]) list([-2, -2, -2])]\n",
            " [list([-1, -2, -2]) list([0, <Action.UP: 0>, <Action.RIGHT: 3>])\n",
            "  list([0, <Action.UP: 0>, -1]) list([-1, -2, -2])\n",
            "  list([0, <Action.UP: 0>, <Action.LEFT: 2>])\n",
            "  list([0, <Action.UP: 0>, <Action.LEFT: 2>])\n",
            "  list([0, <Action.UP: 0>, <Action.LEFT: 2>])\n",
            "  list([0, <Action.UP: 0>, <Action.LEFT: 2>])\n",
            "  list([0, <Action.UP: 0>, <Action.LEFT: 2>])\n",
            "  list([0, -1, <Action.LEFT: 2>])]\n",
            " [list([0, <Action.UP: 0>, <Action.RIGHT: 3>])\n",
            "  list([0, <Action.UP: 0>, <Action.RIGHT: 3>])\n",
            "  list([0, <Action.UP: 0>, -1])\n",
            "  list([0, <Action.UP: 0>, <Action.LEFT: 2>])\n",
            "  list([0, <Action.UP: 0>, <Action.LEFT: 2>]) list([-1, -2, -2])\n",
            "  list([0, <Action.UP: 0>, <Action.LEFT: 2>]) list([-2, -2, -2])\n",
            "  list([0, <Action.UP: 0>, -1])\n",
            "  list([0, <Action.UP: 0>, <Action.LEFT: 2>])]\n",
            " [list([0, <Action.UP: 0>, <Action.RIGHT: 3>])\n",
            "  list([0, <Action.UP: 0>, <Action.RIGHT: 3>])\n",
            "  list([0, <Action.UP: 0>, -1]) list([-1, -2, -2])\n",
            "  list([0, <Action.UP: 0>, <Action.LEFT: 2>])\n",
            "  list([0, <Action.UP: 0>, <Action.LEFT: 2>])\n",
            "  list([0, <Action.UP: 0>, <Action.LEFT: 2>]) list([-1, -2, -2])\n",
            "  list([0, <Action.UP: 0>, <Action.LEFT: 2>])\n",
            "  list([0, <Action.UP: 0>, <Action.LEFT: 2>])]\n",
            " [list([0, <Action.UP: 0>, <Action.RIGHT: 3>]) list([-1, -2, -2])\n",
            "  list([0, <Action.UP: 0>, -1])\n",
            "  list([0, <Action.UP: 0>, <Action.LEFT: 2>])\n",
            "  list([0, <Action.UP: 0>, <Action.LEFT: 2>])\n",
            "  list([0, <Action.UP: 0>, <Action.LEFT: 2>])\n",
            "  list([0, <Action.UP: 0>, <Action.LEFT: 2>])\n",
            "  list([0, <Action.UP: 0>, <Action.LEFT: 2>])\n",
            "  list([0, <Action.UP: 0>, <Action.LEFT: 2>]) list([-1, -2, -2])]\n",
            " [list([0, <Action.UP: 0>, <Action.RIGHT: 3>])\n",
            "  list([0, <Action.UP: 0>, <Action.RIGHT: 3>])\n",
            "  list([0, <Action.UP: 0>, -1])\n",
            "  list([0, <Action.UP: 0>, <Action.LEFT: 2>])\n",
            "  list([0, <Action.UP: 0>, <Action.LEFT: 2>]) list([-1, -2, -2])\n",
            "  list([0, <Action.UP: 0>, <Action.LEFT: 2>])\n",
            "  list([0, <Action.UP: 0>, <Action.LEFT: 2>])\n",
            "  list([0, <Action.UP: 0>, <Action.LEFT: 2>])\n",
            "  list([0, <Action.UP: 0>, <Action.LEFT: 2>])]\n",
            " [list([-1, -2, -2]) list([0, <Action.UP: 0>, -1]) list([-2, -2, -2])\n",
            "  list([0, <Action.UP: 0>, -1])\n",
            "  list([0, <Action.UP: 0>, <Action.LEFT: 2>])\n",
            "  list([0, <Action.UP: 0>, <Action.LEFT: 2>])\n",
            "  list([0, <Action.UP: 0>, <Action.LEFT: 2>]) list([-1, -2, -2])\n",
            "  list([0, <Action.UP: 0>, <Action.LEFT: 2>])\n",
            "  list([0, <Action.UP: 0>, <Action.LEFT: 2>])]\n",
            " [list([0, <Action.UP: 0>, -1]) list([-2, -2, -2]) list([0, -1, -1])\n",
            "  list([-2, -2, -2]) list([-2, -2, -2]) list([0, <Action.UP: 0>, -1])\n",
            "  list([0, <Action.UP: 0>, <Action.LEFT: 2>])\n",
            "  list([0, <Action.UP: 0>, <Action.LEFT: 2>])\n",
            "  list([0, <Action.UP: 0>, <Action.LEFT: 2>]) list([-2, -2, -2])]]\n"
          ]
        }
      ]
    },
    {
      "cell_type": "code",
      "source": [
        "transition_probs = {}\n",
        "rewards = {}\n",
        "value_function = {}\n",
        "moves = gridworld.check_available_moves(ROW_SIZE, COLUMN_SIZE)\n",
        "for i in range(ROW_SIZE):\n",
        "  for j in range(COLUMN_SIZE):\n",
        "    state = (i, j)\n",
        "    value_function[state] = 0\n",
        "    for action in ACTIONS:\n",
        "      can_move, next_state = gridworld.create_transition_probs(state, action)\n",
        "      if can_move:\n",
        "        state_values = gridworld.gridworld[state]\n",
        "        equal_prob = len(moves[i, j])\n",
        "        transition_probs[(state, action, next_state)] = 0 if equal_prob == 0 else 1 / equal_prob\n",
        "        rewards[(state, action, next_state)] = - 1"
      ],
      "metadata": {
        "id": "Mlr-ga3DP8zP"
      },
      "execution_count": 26,
      "outputs": []
    },
    {
      "cell_type": "code",
      "source": [
        "it = 0\n",
        "while True:\n",
        "  error = 0\n",
        "  for i in range(ROW_SIZE):\n",
        "    for j in range(COLUMN_SIZE):\n",
        "      state = (i, j)\n",
        "      old_value = value_function[state]\n",
        "      new_value = 0\n",
        "      grid = gridworld.gridworld[i, j]\n",
        "      policies = [grid[1], grid[2]]\n",
        "      for action in ACTIONS:\n",
        "        can_move, next_state = gridworld.create_transition_probs(state, action)\n",
        "        if can_move:\n",
        "          # The action probability is deterministic.\n",
        "          action_prob = 1 if action in policies else 0\n",
        "          reward = rewards.get((state, action, next_state), 0)\n",
        "          new_value += action_prob * transition_probs.get((state, action, next_state), 0) * (reward + DISCOUNT_FACTOR * value_function[next_state])\n",
        "      value_function[state] = new_value\n",
        "      error = max(error, np.abs(old_value - new_value))\n",
        "  print(f\"Iteration: {it + 1}, Error: {error}\")\n",
        "  it += 1\n",
        "\n",
        "  if error < THRESHOLD:\n",
        "    break"
      ],
      "metadata": {
        "colab": {
          "base_uri": "https://localhost:8080/"
        },
        "id": "STZ8fnmOm0op",
        "outputId": "a952b146-5423-4684-f59f-9dec0979984e"
      },
      "execution_count": 27,
      "outputs": [
        {
          "output_type": "stream",
          "name": "stdout",
          "text": [
            "Iteration: 1, Error: 1.4929529901429142\n",
            "Iteration: 2, Error: 0.3566240244140626\n",
            "Iteration: 3, Error: 0.03437226562499984\n",
            "Iteration: 4, Error: 0\n"
          ]
        }
      ]
    },
    {
      "cell_type": "code",
      "source": [
        "def print_value_function(value_function):\n",
        "  values = np.zeros((ROW_SIZE, COLUMN_SIZE))\n",
        "  for key, value in value_function.items():\n",
        "    i, j = key\n",
        "    values[i, j] = value\n",
        "  print(values)"
      ],
      "metadata": {
        "id": "4vgJxMd1XnQ4"
      },
      "execution_count": 28,
      "outputs": []
    },
    {
      "cell_type": "code",
      "source": [
        "print_value_function(value_function)"
      ],
      "metadata": {
        "colab": {
          "base_uri": "https://localhost:8080/"
        },
        "id": "8gUFlFf_vcAW",
        "outputId": "d983e52a-806e-4b38-a083-732a9cad2106"
      },
      "execution_count": 29,
      "outputs": [
        {
          "output_type": "stream",
          "name": "stdout",
          "text": [
            "[[-1.225      -0.5         0.         -0.66666667  0.         -0.6378125\n",
            "   0.         -0.65555234 -0.96166522 -1.72412402]\n",
            " [ 0.          0.          0.          0.         -0.25       -0.30625\n",
            "  -0.42520833 -0.34567187 -0.32777617 -0.64749928]\n",
            " [-0.76666667 -0.33333333  0.          0.         -0.40833333 -0.66078125\n",
            "  -0.74434766 -0.74525439 -0.98857584  0.        ]\n",
            " [ 0.         -0.63125    -0.25        0.         -0.341875   -0.72559766\n",
            "  -0.8307377  -1.13946429 -0.97880903 -0.94046406]\n",
            " [-0.54661458 -0.7109375  -0.30625    -0.31890625 -0.64867578  0.\n",
            "  -0.58255464  0.         -0.62697604 -1.1368987 ]\n",
            " [-1.05016549 -0.73171484 -0.31890625  0.         -0.39595205 -0.33908921\n",
            "  -0.70736987  0.         -0.39106961 -1.12505716]\n",
            " [-0.64838298  0.         -0.32175391 -0.32239463 -0.661628   -0.72516137\n",
            "  -0.82231953 -0.43502189 -0.68587059  0.        ]\n",
            " [-0.96519708 -0.34671839 -0.42985951 -0.66925718 -0.79944917  0.\n",
            "  -0.43502189 -0.69575985 -0.81086685 -0.57659339]\n",
            " [ 0.         -0.65602327  0.         -0.80116573 -1.14685114 -0.50804151\n",
            "  -0.71218926  0.         -0.43244504 -1.45406729]\n",
            " [ 0.          0.          0.          0.          0.         -0.72861868\n",
            "  -1.09890905 -0.66300605 -1.49295299  0.        ]]\n"
          ]
        }
      ]
    }
  ]
}